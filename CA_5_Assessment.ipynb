{
  "nbformat": 4,
  "nbformat_minor": 0,
  "metadata": {
    "colab": {
      "provenance": []
    },
    "kernelspec": {
      "name": "python3",
      "display_name": "Python 3"
    }
  },
  "cells": [
    {
      "cell_type": "markdown",
      "metadata": {
        "id": "7So9u809e1n5"
      },
      "source": [
        "*Warning*: Distribution/sharing of this notebook and other lab notebooks on the internet and other sources is strictly prohibited. You should not provide this notebook to anyone else. you should just use it for the purpose of this assessment only.\n",
        "\n",
        "You should attempt and submit your work. you can refer to sources/APIs to complete this taks. Copying from each other even a part or so is strictly prohibited and may result in serious action.\n"
      ]
    },
    {
      "cell_type": "markdown",
      "metadata": {
        "id": "L1Y12dPVqHv4"
      },
      "source": [
        "# Assessment 5 : Big Data Analytics using Machine Learning\n",
        "## Due Feburary 25th, 5pm (Firm)\n",
        "### Total points: 100 ( weighted over 35)\n",
        "\n",
        "This assessmet will enable you achieve essential experience of machine learning using sklearn and scalable approach to machine learning based on park ML! \n",
        "\n",
        "The focus of this assessment is to explore what makes videos popular on various platforms, e.g., Netflix and YouTube. The assessment will focus on YouTube 's data.\n",
        "\n",
        "**PLEASE NOTE** There can be multiple solutions possible for this assessment. various students will end up implementing different solutions. Therefore, there is not a single solution to fit all students."
      ]
    },
    {
      "cell_type": "markdown",
      "metadata": {
        "id": "zsMMQ1RnqoYw"
      },
      "source": [
        "### Required Libraries \n",
        "Setup the libraries using the following cells. You should select Java 8 when prompted."
      ]
    },
    {
      "cell_type": "code",
      "metadata": {
        "id": "V5Ea650lhvf2",
        "colab": {
          "base_uri": "https://localhost:8080/"
        },
        "outputId": "2cc5941f-c51a-4f0c-bf24-f9cea7afa15c"
      },
      "source": [
        "! sudo apt install openjdk-8-jdk\n",
        "! sudo update-alternatives --config java"
      ],
      "execution_count": null,
      "outputs": [
        {
          "output_type": "stream",
          "text": [
            "Reading package lists... Done\n",
            "Building dependency tree       \n",
            "Reading state information... Done\n",
            "The following additional packages will be installed:\n",
            "  fonts-dejavu-core fonts-dejavu-extra libatk-wrapper-java\n",
            "  libatk-wrapper-java-jni libgail-common libgail18 libgtk2.0-0 libgtk2.0-bin\n",
            "  libgtk2.0-common libxxf86dga1 openjdk-8-jdk-headless openjdk-8-jre\n",
            "  openjdk-8-jre-headless x11-utils\n",
            "Suggested packages:\n",
            "  gvfs openjdk-8-demo openjdk-8-source visualvm icedtea-8-plugin libnss-mdns\n",
            "  fonts-ipafont-gothic fonts-ipafont-mincho fonts-wqy-microhei\n",
            "  fonts-wqy-zenhei fonts-indic mesa-utils\n",
            "The following NEW packages will be installed:\n",
            "  fonts-dejavu-core fonts-dejavu-extra libatk-wrapper-java\n",
            "  libatk-wrapper-java-jni libgail-common libgail18 libgtk2.0-0 libgtk2.0-bin\n",
            "  libgtk2.0-common libxxf86dga1 openjdk-8-jdk openjdk-8-jdk-headless\n",
            "  openjdk-8-jre openjdk-8-jre-headless x11-utils\n",
            "0 upgraded, 15 newly installed, 0 to remove and 13 not upgraded.\n",
            "Need to get 43.5 MB of archives.\n",
            "After this operation, 163 MB of additional disk space will be used.\n",
            "Get:1 http://archive.ubuntu.com/ubuntu bionic/main amd64 libxxf86dga1 amd64 2:1.1.4-1 [13.7 kB]\n",
            "Get:2 http://archive.ubuntu.com/ubuntu bionic/main amd64 fonts-dejavu-core all 2.37-1 [1,041 kB]\n",
            "Get:3 http://archive.ubuntu.com/ubuntu bionic/main amd64 fonts-dejavu-extra all 2.37-1 [1,953 kB]\n",
            "Get:4 http://archive.ubuntu.com/ubuntu bionic/main amd64 x11-utils amd64 7.7+3build1 [196 kB]\n",
            "Get:5 http://archive.ubuntu.com/ubuntu bionic/main amd64 libatk-wrapper-java all 0.33.3-20ubuntu0.1 [34.7 kB]\n",
            "Get:6 http://archive.ubuntu.com/ubuntu bionic/main amd64 libatk-wrapper-java-jni amd64 0.33.3-20ubuntu0.1 [28.3 kB]\n",
            "Get:7 http://archive.ubuntu.com/ubuntu bionic/main amd64 libgtk2.0-common all 2.24.32-1ubuntu1 [125 kB]\n",
            "Get:8 http://archive.ubuntu.com/ubuntu bionic/main amd64 libgtk2.0-0 amd64 2.24.32-1ubuntu1 [1,769 kB]\n",
            "Get:9 http://archive.ubuntu.com/ubuntu bionic/main amd64 libgail18 amd64 2.24.32-1ubuntu1 [14.2 kB]\n",
            "Get:10 http://archive.ubuntu.com/ubuntu bionic/main amd64 libgail-common amd64 2.24.32-1ubuntu1 [112 kB]\n",
            "Get:11 http://archive.ubuntu.com/ubuntu bionic/main amd64 libgtk2.0-bin amd64 2.24.32-1ubuntu1 [7,536 B]\n",
            "Get:12 http://archive.ubuntu.com/ubuntu bionic-updates/universe amd64 openjdk-8-jre-headless amd64 8u282-b08-0ubuntu1~18.04 [28.2 MB]\n",
            "Get:13 http://archive.ubuntu.com/ubuntu bionic-updates/universe amd64 openjdk-8-jre amd64 8u282-b08-0ubuntu1~18.04 [69.7 kB]\n",
            "Get:14 http://archive.ubuntu.com/ubuntu bionic-updates/universe amd64 openjdk-8-jdk-headless amd64 8u282-b08-0ubuntu1~18.04 [8,267 kB]\n",
            "Get:15 http://archive.ubuntu.com/ubuntu bionic-updates/universe amd64 openjdk-8-jdk amd64 8u282-b08-0ubuntu1~18.04 [1,630 kB]\n",
            "Fetched 43.5 MB in 6s (7,751 kB/s)\n",
            "debconf: unable to initialize frontend: Dialog\n",
            "debconf: (No usable dialog-like program is installed, so the dialog based frontend cannot be used. at /usr/share/perl5/Debconf/FrontEnd/Dialog.pm line 76, <> line 15.)\n",
            "debconf: falling back to frontend: Readline\n",
            "debconf: unable to initialize frontend: Readline\n",
            "debconf: (This frontend requires a controlling tty.)\n",
            "debconf: falling back to frontend: Teletype\n",
            "dpkg-preconfigure: unable to re-open stdin: \n",
            "Selecting previously unselected package libxxf86dga1:amd64.\n",
            "(Reading database ... 149406 files and directories currently installed.)\n",
            "Preparing to unpack .../00-libxxf86dga1_2%3a1.1.4-1_amd64.deb ...\n",
            "Unpacking libxxf86dga1:amd64 (2:1.1.4-1) ...\n",
            "Selecting previously unselected package fonts-dejavu-core.\n",
            "Preparing to unpack .../01-fonts-dejavu-core_2.37-1_all.deb ...\n",
            "Unpacking fonts-dejavu-core (2.37-1) ...\n",
            "Selecting previously unselected package fonts-dejavu-extra.\n",
            "Preparing to unpack .../02-fonts-dejavu-extra_2.37-1_all.deb ...\n",
            "Unpacking fonts-dejavu-extra (2.37-1) ...\n",
            "Selecting previously unselected package x11-utils.\n",
            "Preparing to unpack .../03-x11-utils_7.7+3build1_amd64.deb ...\n",
            "Unpacking x11-utils (7.7+3build1) ...\n",
            "Selecting previously unselected package libatk-wrapper-java.\n",
            "Preparing to unpack .../04-libatk-wrapper-java_0.33.3-20ubuntu0.1_all.deb ...\n",
            "Unpacking libatk-wrapper-java (0.33.3-20ubuntu0.1) ...\n",
            "Selecting previously unselected package libatk-wrapper-java-jni:amd64.\n",
            "Preparing to unpack .../05-libatk-wrapper-java-jni_0.33.3-20ubuntu0.1_amd64.deb ...\n",
            "Unpacking libatk-wrapper-java-jni:amd64 (0.33.3-20ubuntu0.1) ...\n",
            "Selecting previously unselected package libgtk2.0-common.\n",
            "Preparing to unpack .../06-libgtk2.0-common_2.24.32-1ubuntu1_all.deb ...\n",
            "Unpacking libgtk2.0-common (2.24.32-1ubuntu1) ...\n",
            "Selecting previously unselected package libgtk2.0-0:amd64.\n",
            "Preparing to unpack .../07-libgtk2.0-0_2.24.32-1ubuntu1_amd64.deb ...\n",
            "Unpacking libgtk2.0-0:amd64 (2.24.32-1ubuntu1) ...\n",
            "Selecting previously unselected package libgail18:amd64.\n",
            "Preparing to unpack .../08-libgail18_2.24.32-1ubuntu1_amd64.deb ...\n",
            "Unpacking libgail18:amd64 (2.24.32-1ubuntu1) ...\n",
            "Selecting previously unselected package libgail-common:amd64.\n",
            "Preparing to unpack .../09-libgail-common_2.24.32-1ubuntu1_amd64.deb ...\n",
            "Unpacking libgail-common:amd64 (2.24.32-1ubuntu1) ...\n",
            "Selecting previously unselected package libgtk2.0-bin.\n",
            "Preparing to unpack .../10-libgtk2.0-bin_2.24.32-1ubuntu1_amd64.deb ...\n",
            "Unpacking libgtk2.0-bin (2.24.32-1ubuntu1) ...\n",
            "Selecting previously unselected package openjdk-8-jre-headless:amd64.\n",
            "Preparing to unpack .../11-openjdk-8-jre-headless_8u282-b08-0ubuntu1~18.04_amd64.deb ...\n",
            "Unpacking openjdk-8-jre-headless:amd64 (8u282-b08-0ubuntu1~18.04) ...\n",
            "Selecting previously unselected package openjdk-8-jre:amd64.\n",
            "Preparing to unpack .../12-openjdk-8-jre_8u282-b08-0ubuntu1~18.04_amd64.deb ...\n",
            "Unpacking openjdk-8-jre:amd64 (8u282-b08-0ubuntu1~18.04) ...\n",
            "Selecting previously unselected package openjdk-8-jdk-headless:amd64.\n",
            "Preparing to unpack .../13-openjdk-8-jdk-headless_8u282-b08-0ubuntu1~18.04_amd64.deb ...\n",
            "Unpacking openjdk-8-jdk-headless:amd64 (8u282-b08-0ubuntu1~18.04) ...\n",
            "Selecting previously unselected package openjdk-8-jdk:amd64.\n",
            "Preparing to unpack .../14-openjdk-8-jdk_8u282-b08-0ubuntu1~18.04_amd64.deb ...\n",
            "Unpacking openjdk-8-jdk:amd64 (8u282-b08-0ubuntu1~18.04) ...\n",
            "Setting up libgtk2.0-common (2.24.32-1ubuntu1) ...\n",
            "Setting up fonts-dejavu-core (2.37-1) ...\n",
            "Setting up libxxf86dga1:amd64 (2:1.1.4-1) ...\n",
            "Setting up fonts-dejavu-extra (2.37-1) ...\n",
            "Setting up openjdk-8-jre-headless:amd64 (8u282-b08-0ubuntu1~18.04) ...\n",
            "update-alternatives: using /usr/lib/jvm/java-8-openjdk-amd64/jre/bin/orbd to provide /usr/bin/orbd (orbd) in auto mode\n",
            "update-alternatives: using /usr/lib/jvm/java-8-openjdk-amd64/jre/bin/servertool to provide /usr/bin/servertool (servertool) in auto mode\n",
            "update-alternatives: using /usr/lib/jvm/java-8-openjdk-amd64/jre/bin/tnameserv to provide /usr/bin/tnameserv (tnameserv) in auto mode\n",
            "Setting up libgtk2.0-0:amd64 (2.24.32-1ubuntu1) ...\n",
            "Setting up libgail18:amd64 (2.24.32-1ubuntu1) ...\n",
            "Setting up openjdk-8-jdk-headless:amd64 (8u282-b08-0ubuntu1~18.04) ...\n",
            "update-alternatives: using /usr/lib/jvm/java-8-openjdk-amd64/bin/idlj to provide /usr/bin/idlj (idlj) in auto mode\n",
            "update-alternatives: using /usr/lib/jvm/java-8-openjdk-amd64/bin/wsimport to provide /usr/bin/wsimport (wsimport) in auto mode\n",
            "update-alternatives: using /usr/lib/jvm/java-8-openjdk-amd64/bin/jsadebugd to provide /usr/bin/jsadebugd (jsadebugd) in auto mode\n",
            "update-alternatives: using /usr/lib/jvm/java-8-openjdk-amd64/bin/native2ascii to provide /usr/bin/native2ascii (native2ascii) in auto mode\n",
            "update-alternatives: using /usr/lib/jvm/java-8-openjdk-amd64/bin/javah to provide /usr/bin/javah (javah) in auto mode\n",
            "update-alternatives: using /usr/lib/jvm/java-8-openjdk-amd64/bin/hsdb to provide /usr/bin/hsdb (hsdb) in auto mode\n",
            "update-alternatives: using /usr/lib/jvm/java-8-openjdk-amd64/bin/clhsdb to provide /usr/bin/clhsdb (clhsdb) in auto mode\n",
            "update-alternatives: using /usr/lib/jvm/java-8-openjdk-amd64/bin/xjc to provide /usr/bin/xjc (xjc) in auto mode\n",
            "update-alternatives: using /usr/lib/jvm/java-8-openjdk-amd64/bin/schemagen to provide /usr/bin/schemagen (schemagen) in auto mode\n",
            "update-alternatives: using /usr/lib/jvm/java-8-openjdk-amd64/bin/extcheck to provide /usr/bin/extcheck (extcheck) in auto mode\n",
            "update-alternatives: using /usr/lib/jvm/java-8-openjdk-amd64/bin/jhat to provide /usr/bin/jhat (jhat) in auto mode\n",
            "update-alternatives: using /usr/lib/jvm/java-8-openjdk-amd64/bin/wsgen to provide /usr/bin/wsgen (wsgen) in auto mode\n",
            "Setting up x11-utils (7.7+3build1) ...\n",
            "Setting up libgail-common:amd64 (2.24.32-1ubuntu1) ...\n",
            "Setting up libatk-wrapper-java (0.33.3-20ubuntu0.1) ...\n",
            "Setting up libgtk2.0-bin (2.24.32-1ubuntu1) ...\n",
            "Setting up libatk-wrapper-java-jni:amd64 (0.33.3-20ubuntu0.1) ...\n",
            "Setting up openjdk-8-jre:amd64 (8u282-b08-0ubuntu1~18.04) ...\n",
            "update-alternatives: using /usr/lib/jvm/java-8-openjdk-amd64/jre/bin/policytool to provide /usr/bin/policytool (policytool) in auto mode\n",
            "Setting up openjdk-8-jdk:amd64 (8u282-b08-0ubuntu1~18.04) ...\n",
            "update-alternatives: using /usr/lib/jvm/java-8-openjdk-amd64/bin/appletviewer to provide /usr/bin/appletviewer (appletviewer) in auto mode\n",
            "update-alternatives: using /usr/lib/jvm/java-8-openjdk-amd64/bin/jconsole to provide /usr/bin/jconsole (jconsole) in auto mode\n",
            "Processing triggers for man-db (2.8.3-2ubuntu0.1) ...\n",
            "Processing triggers for hicolor-icon-theme (0.17-2) ...\n",
            "Processing triggers for fontconfig (2.12.6-0ubuntu2) ...\n",
            "Processing triggers for mime-support (3.60ubuntu1) ...\n",
            "Processing triggers for libc-bin (2.27-3ubuntu1.4) ...\n",
            "/sbin/ldconfig.real: /usr/local/lib/python3.7/dist-packages/ideep4py/lib/libmkldnn.so.0 is not a symbolic link\n",
            "\n",
            "There are 2 choices for the alternative java (providing /usr/bin/java).\n",
            "\n",
            "  Selection    Path                                            Priority   Status\n",
            "------------------------------------------------------------\n",
            "* 0            /usr/lib/jvm/java-11-openjdk-amd64/bin/java      1111      auto mode\n",
            "  1            /usr/lib/jvm/java-11-openjdk-amd64/bin/java      1111      manual mode\n",
            "  2            /usr/lib/jvm/java-8-openjdk-amd64/jre/bin/java   1081      manual mode\n",
            "\n",
            "Press <enter> to keep the current choice[*], or type selection number: 0\n"
          ],
          "name": "stdout"
        }
      ]
    },
    {
      "cell_type": "code",
      "metadata": {
        "id": "678WFOguE-CF",
        "colab": {
          "base_uri": "https://localhost:8080/",
          "height": 354
        },
        "outputId": "ad39575f-bfb7-4466-cae4-28ac58f73bd6"
      },
      "source": [
        "!pip3 install pandas==1.0.5"
      ],
      "execution_count": null,
      "outputs": [
        {
          "output_type": "stream",
          "text": [
            "Collecting pandas==1.0.5\n",
            "\u001b[?25l  Downloading https://files.pythonhosted.org/packages/af/f3/683bf2547a3eaeec15b39cef86f61e921b3b187f250fcd2b5c5fb4386369/pandas-1.0.5-cp37-cp37m-manylinux1_x86_64.whl (10.1MB)\n",
            "\u001b[K     |████████████████████████████████| 10.1MB 4.1MB/s \n",
            "\u001b[?25hRequirement already satisfied: numpy>=1.13.3 in /usr/local/lib/python3.7/dist-packages (from pandas==1.0.5) (1.19.5)\n",
            "Requirement already satisfied: pytz>=2017.2 in /usr/local/lib/python3.7/dist-packages (from pandas==1.0.5) (2018.9)\n",
            "Requirement already satisfied: python-dateutil>=2.6.1 in /usr/local/lib/python3.7/dist-packages (from pandas==1.0.5) (2.8.1)\n",
            "Requirement already satisfied: six>=1.5 in /usr/local/lib/python3.7/dist-packages (from python-dateutil>=2.6.1->pandas==1.0.5) (1.15.0)\n",
            "\u001b[31mERROR: google-colab 1.0.0 has requirement pandas~=1.1.0; python_version >= \"3.0\", but you'll have pandas 1.0.5 which is incompatible.\u001b[0m\n",
            "Installing collected packages: pandas\n",
            "  Found existing installation: pandas 1.1.5\n",
            "    Uninstalling pandas-1.1.5:\n",
            "      Successfully uninstalled pandas-1.1.5\n",
            "Successfully installed pandas-1.0.5\n"
          ],
          "name": "stdout"
        },
        {
          "output_type": "display_data",
          "data": {
            "application/vnd.colab-display-data+json": {
              "pip_warning": {
                "packages": [
                  "pandas"
                ]
              }
            }
          },
          "metadata": {
            "tags": []
          }
        }
      ]
    },
    {
      "cell_type": "code",
      "metadata": {
        "id": "eAqMbSa7FA6b",
        "colab": {
          "base_uri": "https://localhost:8080/"
        },
        "outputId": "ddd02fa7-426d-4a95-ed7a-1cbefc15ac2f"
      },
      "source": [
        "# if restart of runtime is successful, the execution of this cell should\n",
        "# prints True\n",
        "\n",
        "import pandas as pd\n",
        "print(pd.__version__ == '1.0.5')"
      ],
      "execution_count": null,
      "outputs": [
        {
          "output_type": "stream",
          "text": [
            "True\n"
          ],
          "name": "stdout"
        }
      ]
    },
    {
      "cell_type": "code",
      "metadata": {
        "id": "NodzYeBAGpnr"
      },
      "source": [
        "import numpy as np \n",
        "import json\n",
        "import matplotlib\n",
        "import matplotlib.pyplot as plt\n",
        "from matplotlib import cm\n",
        "from datetime import datetime\n",
        "import glob\n",
        "import seaborn as sns\n",
        "import re\n",
        "import os"
      ],
      "execution_count": null,
      "outputs": []
    },
    {
      "cell_type": "markdown",
      "metadata": {
        "id": "1LUqDAYCa_kN"
      },
      "source": [
        "Import your dataset using the following cells for the Youtube videos"
      ]
    },
    {
      "cell_type": "code",
      "metadata": {
        "id": "bUWkvS3kHHve",
        "colab": {
          "resources": {
            "http://localhost:8080/nbextensions/google.colab/files.js": {
              "data": "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",
              "ok": true,
              "headers": [
                [
                  "content-type",
                  "application/javascript"
                ]
              ],
              "status": 200,
              "status_text": ""
            }
          },
          "base_uri": "https://localhost:8080/",
          "height": 478
        },
        "outputId": "86aa5cc2-0b37-4fa5-f8eb-327fa67303b4"
      },
      "source": [
        "from google.colab import files\n",
        "uploaded = files.upload()\n",
        "\n",
        "!unzip /content/youtube_data.zip"
      ],
      "execution_count": null,
      "outputs": [
        {
          "output_type": "display_data",
          "data": {
            "text/html": [
              "\n",
              "     <input type=\"file\" id=\"files-6766e072-b20d-46cb-923c-4f0eb68d829f\" name=\"files[]\" multiple disabled\n",
              "        style=\"border:none\" />\n",
              "     <output id=\"result-6766e072-b20d-46cb-923c-4f0eb68d829f\">\n",
              "      Upload widget is only available when the cell has been executed in the\n",
              "      current browser session. Please rerun this cell to enable.\n",
              "      </output>\n",
              "      <script src=\"/nbextensions/google.colab/files.js\"></script> "
            ],
            "text/plain": [
              "<IPython.core.display.HTML object>"
            ]
          },
          "metadata": {
            "tags": []
          }
        },
        {
          "output_type": "stream",
          "text": [
            "Saving youtube_data.zip to youtube_data.zip\n",
            "Archive:  /content/youtube_data.zip\n",
            "   creating: youtube_data/\n",
            "  inflating: youtube_data/IN_category_id.json  \n",
            "   creating: __MACOSX/\n",
            "   creating: __MACOSX/youtube_data/\n",
            "  inflating: __MACOSX/youtube_data/._IN_category_id.json  \n",
            "  inflating: youtube_data/.DS_Store  \n",
            "  inflating: __MACOSX/youtube_data/._.DS_Store  \n",
            "  inflating: youtube_data/FR_category_id.json  \n",
            "  inflating: __MACOSX/youtube_data/._FR_category_id.json  \n",
            "  inflating: youtube_data/INvideos.csv  \n",
            "  inflating: __MACOSX/youtube_data/._INvideos.csv  \n",
            "  inflating: youtube_data/CAvideos.csv  \n",
            "  inflating: __MACOSX/youtube_data/._CAvideos.csv  \n",
            "  inflating: youtube_data/FRvideos.csv  \n",
            "  inflating: __MACOSX/youtube_data/._FRvideos.csv  \n",
            "  inflating: youtube_data/CA_category_id.json  \n",
            "  inflating: __MACOSX/youtube_data/._CA_category_id.json  \n",
            "  inflating: youtube_data/US_category_id.json  \n",
            "  inflating: __MACOSX/youtube_data/._US_category_id.json  \n",
            "  inflating: youtube_data/USvideos.csv  \n",
            "  inflating: __MACOSX/youtube_data/._USvideos.csv  \n",
            "  inflating: __MACOSX/._youtube_data  \n"
          ],
          "name": "stdout"
        }
      ]
    },
    {
      "cell_type": "markdown",
      "metadata": {
        "id": "lzax5Hp70oGW"
      },
      "source": [
        "# Section 5.1. : Machine Learning with Sklearn (45 points)"
      ]
    },
    {
      "cell_type": "markdown",
      "metadata": {
        "id": "Ecg1d6dwais8"
      },
      "source": [
        "## 5.1.1 Data loading and Preprocessing (5 pts)\n",
        "\n",
        "The dataset consists of a daily record of the top trending YouTube videos.\n",
        "\n",
        "To determine the year’s top-trending videos, YouTube uses a combination of factors including measuring users interactions, e.g., number of views, shares, comments and likes. \"Note that they’re not the most-viewed videos overall for the calendar year”. Top performers on the YouTube trending list are music videos (such as the famously viral “[Gangnam Style](https://www.youtube.com/watch?v=9bZkp7q19f0)”), celebrity and/or reality TV performances, and the random dude-with-a-camera viral videos that YouTube is well-known for.\n",
        "\n",
        "This dataset includes several months (and counting) of data on daily trending YouTube videos. Data is included for numerous countries, with up to 200 listed trending videos per day.\n",
        "\n",
        "Each region’s data is in a separate file. Data includes:\n",
        "\n",
        "*   Video Title\n",
        "*   Channel title\n",
        "*   Publish time\n",
        "*   Tags\n",
        "*   Views\n",
        "*   Likes\n",
        "*   Dislikes\n",
        "*   Description\n",
        "*   Comment count\n",
        "\n",
        "The data also includes a category\\_id field, which varies between regions. To retrieve the categories for a specific video, find it in the associated JSON. One such file is included for each of the five regions in the dataset.\n",
        "\n",
        "For more information on specific columns in the dataset refer to the column metadata.\n",
        "\n"
      ]
    },
    {
      "cell_type": "markdown",
      "metadata": {
        "id": "XCNsu176IR5x"
      },
      "source": [
        "#### 5.1.1.1: Combining Multiple CSV's. (2 pts.)\n",
        "\n",
        "There are multiple csv files in the dataset, each corresponding to a specific country. As a first step you need to read them and combine these csv files into a single dataframe. Use 'video_id' as your index.\n",
        "\n",
        "While combining them, you also need to create a column for \"country\" and fill it in the final dataframe. The country name can be extracted using the filename itself.\n",
        "\n",
        "Name your dataframe \"combined_data\"."
      ]
    },
    {
      "cell_type": "code",
      "metadata": {
        "id": "V_tuqP5Wahf_"
      },
      "source": [
        "# Import all the csv files\n",
        "files = [i for i in glob.glob('/content/youtube_data/*.csv'.format('csv'))]\n",
        "sorted(files)\n",
        "\n",
        "# Task: Merge all dataframes to single dataframe \"combined_data\" and add a 'country' column. \n",
        "list_df_file = []\n",
        "for file in files:\n",
        "  df_file = pd.read_csv(file)\n",
        "  df_file['country'] = os.path.basename(file)\n",
        "  list_df_file.append(df_file)\n",
        "combined_data   = pd.concat(list_df_file)\n",
        "\n",
        "\n"
      ],
      "execution_count": null,
      "outputs": []
    },
    {
      "cell_type": "code",
      "metadata": {
        "colab": {
          "base_uri": "https://localhost:8080/"
        },
        "id": "4e8ON1nfaGSg",
        "outputId": "d5ede976-c1c7-4bd2-a4ee-01ea64ce485e"
      },
      "source": [
        "combined_data.shape"
      ],
      "execution_count": null,
      "outputs": [
        {
          "output_type": "execute_result",
          "data": {
            "text/plain": [
              "(159906, 17)"
            ]
          },
          "metadata": {
            "tags": []
          },
          "execution_count": 5
        }
      ]
    },
    {
      "cell_type": "markdown",
      "metadata": {
        "id": "PdfKNvDqILsh"
      },
      "source": [
        "#### 5.1.1.2: Map category Id's to categories (2 pts)\n",
        "\n",
        "Read the category_id.json file and map the category_id's in the dataframe to the category name.\n",
        "\n",
        "Use json.load to read in the data in the json file as a python dictionary and then map the category id given in the dataframe to category name from the json file. (Hint: the US json is likely the most comprehensive reference)\n",
        "\n",
        "\n"
      ]
    },
    {
      "cell_type": "code",
      "metadata": {
        "id": "xDyMBIoRGdi0"
      },
      "source": [
        "combined_data['category_id'] = combined_data['category_id'].astype(str)\n",
        "\n",
        "# Add code here\n",
        "category = pd.json_normalize(pd.read_json('/content/youtube_data/US_category_id.json')['items'])[['id','snippet.title']]\n",
        "category.rename(columns={'snippet.title':'category'},inplace=True)\n",
        "category['id'] = category['id'].astype(str)\n",
        "combined_data = combined_data.merge(category,left_on='category_id',right_on='id')\n",
        "combined_data.drop(columns='id',inplace=True)\n"
      ],
      "execution_count": null,
      "outputs": []
    },
    {
      "cell_type": "code",
      "metadata": {
        "colab": {
          "base_uri": "https://localhost:8080/",
          "height": 402
        },
        "id": "xart2Dk6aXim",
        "outputId": "17a178a4-86cc-4ba8-fa6e-2d4e1a4645cf"
      },
      "source": [
        "combined_data[['category_id','category']]"
      ],
      "execution_count": null,
      "outputs": [
        {
          "output_type": "execute_result",
          "data": {
            "text/html": [
              "<div>\n",
              "<style scoped>\n",
              "    .dataframe tbody tr th:only-of-type {\n",
              "        vertical-align: middle;\n",
              "    }\n",
              "\n",
              "    .dataframe tbody tr th {\n",
              "        vertical-align: top;\n",
              "    }\n",
              "\n",
              "    .dataframe thead th {\n",
              "        text-align: right;\n",
              "    }\n",
              "</style>\n",
              "<table border=\"1\" class=\"dataframe\">\n",
              "  <thead>\n",
              "    <tr style=\"text-align: right;\">\n",
              "      <th></th>\n",
              "      <th>category_id</th>\n",
              "      <th>category</th>\n",
              "    </tr>\n",
              "  </thead>\n",
              "  <tbody>\n",
              "    <tr>\n",
              "      <th>0</th>\n",
              "      <td>24</td>\n",
              "      <td>Entertainment</td>\n",
              "    </tr>\n",
              "    <tr>\n",
              "      <th>1</th>\n",
              "      <td>24</td>\n",
              "      <td>Entertainment</td>\n",
              "    </tr>\n",
              "    <tr>\n",
              "      <th>2</th>\n",
              "      <td>24</td>\n",
              "      <td>Entertainment</td>\n",
              "    </tr>\n",
              "    <tr>\n",
              "      <th>3</th>\n",
              "      <td>24</td>\n",
              "      <td>Entertainment</td>\n",
              "    </tr>\n",
              "    <tr>\n",
              "      <th>4</th>\n",
              "      <td>24</td>\n",
              "      <td>Entertainment</td>\n",
              "    </tr>\n",
              "    <tr>\n",
              "      <th>...</th>\n",
              "      <td>...</td>\n",
              "      <td>...</td>\n",
              "    </tr>\n",
              "    <tr>\n",
              "      <th>159901</th>\n",
              "      <td>30</td>\n",
              "      <td>Movies</td>\n",
              "    </tr>\n",
              "    <tr>\n",
              "      <th>159902</th>\n",
              "      <td>30</td>\n",
              "      <td>Movies</td>\n",
              "    </tr>\n",
              "    <tr>\n",
              "      <th>159903</th>\n",
              "      <td>30</td>\n",
              "      <td>Movies</td>\n",
              "    </tr>\n",
              "    <tr>\n",
              "      <th>159904</th>\n",
              "      <td>44</td>\n",
              "      <td>Trailers</td>\n",
              "    </tr>\n",
              "    <tr>\n",
              "      <th>159905</th>\n",
              "      <td>44</td>\n",
              "      <td>Trailers</td>\n",
              "    </tr>\n",
              "  </tbody>\n",
              "</table>\n",
              "<p>159906 rows × 2 columns</p>\n",
              "</div>"
            ],
            "text/plain": [
              "       category_id       category\n",
              "0               24  Entertainment\n",
              "1               24  Entertainment\n",
              "2               24  Entertainment\n",
              "3               24  Entertainment\n",
              "4               24  Entertainment\n",
              "...            ...            ...\n",
              "159901          30         Movies\n",
              "159902          30         Movies\n",
              "159903          30         Movies\n",
              "159904          44       Trailers\n",
              "159905          44       Trailers\n",
              "\n",
              "[159906 rows x 2 columns]"
            ]
          },
          "metadata": {
            "tags": []
          },
          "execution_count": 7
        }
      ]
    },
    {
      "cell_type": "code",
      "metadata": {
        "id": "5RkdpXGga182"
      },
      "source": [],
      "execution_count": null,
      "outputs": []
    },
    {
      "cell_type": "markdown",
      "metadata": {
        "id": "LEfiMpUULmT4"
      },
      "source": [
        "#### 5.1.1.3: Fix datetime format and remove rows with NA's (1 pt)\n",
        "\n",
        "The 'publish_time' and 'trending_date' features are not in a unix datetime format, so use pandas to_datetime() to convert it into the right format.\n",
        "\n",
        "After that is done remove all the rows which have NA's in them."
      ]
    },
    {
      "cell_type": "code",
      "metadata": {
        "id": "EMqgqJv5MYWG"
      },
      "source": [
        "# Add code here\n",
        "combined_data['trending_date'] = pd.to_datetime(combined_data['trending_date'],format='%y.%d.%m')\n",
        "combined_data['publish_time'] = pd.to_datetime(combined_data['publish_time'])\n",
        "\n",
        "# Add your Code here to remove NA's\n",
        "combined_data = combined_data.dropna()\n",
        "\n"
      ],
      "execution_count": null,
      "outputs": []
    },
    {
      "cell_type": "code",
      "metadata": {
        "id": "P7B9nlL1SwgT",
        "colab": {
          "base_uri": "https://localhost:8080/"
        },
        "outputId": "e1f4fb2c-9313-4ade-fb27-102296e9c408"
      },
      "source": [
        "# print\n",
        "print('validate_na',(combined_data.shape))"
      ],
      "execution_count": null,
      "outputs": [
        {
          "output_type": "stream",
          "text": [
            "validate_na (154567, 18)\n"
          ],
          "name": "stdout"
        }
      ]
    },
    {
      "cell_type": "markdown",
      "metadata": {
        "id": "gT2l5ttZan_J"
      },
      "source": [
        "## 5.2 Exploratory Data Analysis & Feature Engineering (20pt)\n",
        "\n",
        "\n",
        "**Exploratory Data Analysis:** \n",
        "EDA aims to analyze data sets by summarizing its key characteristics assisted by visualizations. EDA communicates insights beyond formal modeling/hypothesis testing with or without statistical model.\n",
        "\n",
        "**Feature Engineering:** \n",
        "The primary object of feature engineering is to extract features using domain knowledge. It aims to extract features from raw data using various data mining approaches.\n",
        "\n",
        "These features are fed to various machine learning classifiers. These features are also called as covariates, predicators, or simply a new column in data frame."
      ]
    },
    {
      "cell_type": "markdown",
      "metadata": {
        "id": "bL0aSQcFAxxz"
      },
      "source": [
        "#### 5.2.1: Calculating Mean, standard deviation, min and max. (1 pt)\n",
        "\n",
        "In this section, we will focus to compute various satistics, i.e., mean, standard deviation, min and max for numerical features in the dataset and then store them into lists, i.e.,  [views, likes, dislikes, comment_count].\n",
        "\n",
        "means = [views_mean, likes_mean, dislikes_mean, comment_count_mean] and similarly for mins, maxs and stds."
      ]
    },
    {
      "cell_type": "code",
      "metadata": {
        "colab": {
          "base_uri": "https://localhost:8080/"
        },
        "id": "24XsfAbpig6A",
        "outputId": "3c1c5082-55eb-4211-9b35-acf1c4661712"
      },
      "source": [
        "combined_data.dtypes"
      ],
      "execution_count": null,
      "outputs": [
        {
          "output_type": "execute_result",
          "data": {
            "text/plain": [
              "video_id                               object\n",
              "trending_date                  datetime64[ns]\n",
              "title                                  object\n",
              "channel_title                          object\n",
              "category_id                            object\n",
              "publish_time              datetime64[ns, UTC]\n",
              "tags                                   object\n",
              "views                                   int64\n",
              "likes                                   int64\n",
              "dislikes                                int64\n",
              "comment_count                           int64\n",
              "thumbnail_link                         object\n",
              "comments_disabled                        bool\n",
              "ratings_disabled                         bool\n",
              "video_error_or_removed                   bool\n",
              "description                            object\n",
              "country                                object\n",
              "category                               object\n",
              "dtype: object"
            ]
          },
          "metadata": {
            "tags": []
          },
          "execution_count": 10
        }
      ]
    },
    {
      "cell_type": "code",
      "metadata": {
        "id": "6F6G072PjC2U"
      },
      "source": [
        "views_max = combined_data['views'].max()\n",
        "views_min = combined_data['views'].min()\n",
        "views_mean= combined_data['views'].mean()\n",
        "views_std= combined_data['views'].std()\n",
        "likes_max = combined_data['likes'].max()\n",
        "likes_min = combined_data['likes'].min()\n",
        "likes_mean= combined_data['likes'].mean()\n",
        "likes_std= combined_data['likes'].std()\n",
        "dislikes_max = combined_data['dislikes'].max()\n",
        "dislikes_min = combined_data['dislikes'].min()\n",
        "dislikes_mean= combined_data['dislikes'].mean()\n",
        "dislikes_std= combined_data['dislikes'].std()\n",
        "comment_count_max = combined_data['comment_count'].max()\n",
        "comment_count_min = combined_data['comment_count'].min()\n",
        "comment_count_mean= combined_data['comment_count'].mean()\n",
        "comment_count_std= combined_data['comment_count'].std()"
      ],
      "execution_count": null,
      "outputs": []
    },
    {
      "cell_type": "code",
      "metadata": {
        "id": "sUvoJyv4OwK6"
      },
      "source": [
        "# Add your code here\n",
        "maxs = [views_max,likes_max,dislikes_max,comment_count_max]\n",
        "mins = [views_min,likes_min,dislikes_min,comment_count_min]\n",
        "stds = [views_std,likes_std,dislikes_std,comment_count_std]\n",
        "means = [views_mean,likes_mean,dislikes_mean,comment_count_mean]\n",
        "\n",
        "\n"
      ],
      "execution_count": null,
      "outputs": []
    },
    {
      "cell_type": "code",
      "metadata": {
        "id": "G0186aPaSzA_",
        "colab": {
          "base_uri": "https://localhost:8080/"
        },
        "outputId": "2ef7d7a3-dae5-4008-d801-ad882aa217bc"
      },
      "source": [
        "# print here\n",
        "print('check_min_max_mean_std',([maxs, mins, stds, means]))\n"
      ],
      "execution_count": null,
      "outputs": [
        {
          "output_type": "stream",
          "text": [
            "check_min_max_mean_std [[225211923, 5613827, 1643059, 1228655], [223, 0, 0, 0], [4605292.478385805, 152148.95485475098, 18258.541379661412, 23278.22562061964], [1281578.03423758, 40961.05191276275, 2056.138490104615, 4606.593742519425]]\n"
          ],
          "name": "stdout"
        }
      ]
    },
    {
      "cell_type": "markdown",
      "metadata": {
        "id": "jwMkARfAFE-U"
      },
      "source": [
        "#### 5.2.2: Rescaling the features (1 pt)\n",
        "\n",
        "From the above section, it is clear that the numerical values range is really high.  we can use rescaling to avoid numerical instability problems. We can rescale likes, views, dislikes, and comment_count using log scale (base e). Let us store rescaled features in dataframe as likes_log, views_log, dislikes_log and comment_log.\n",
        "\n",
        "NOTE- log 0 is not defined, therefore, you should add 1 to each value prior to taking the log."
      ]
    },
    {
      "cell_type": "code",
      "metadata": {
        "id": "-0wGMFGdFUBK"
      },
      "source": [
        "# Add your code here\n",
        "combined_data['likes_log'] = np.log(combined_data['likes']+1)\n",
        "combined_data['views_log'] = np.log(combined_data['views']+1)\n",
        "combined_data['dislikes_log'] = np.log(combined_data['dislikes']+1)\n",
        "combined_data['comment_log'] = np.log(combined_data['comment_count']+1)\n",
        "\n"
      ],
      "execution_count": null,
      "outputs": []
    },
    {
      "cell_type": "code",
      "metadata": {
        "id": "ZrJSqeZaS1_0",
        "colab": {
          "base_uri": "https://localhost:8080/"
        },
        "outputId": "035f5de4-ceac-48e2-bb34-54e69fdd0c77"
      },
      "source": [
        "# Print results\n",
        "\n",
        "print('check_feature_rescaling',([np.mean(combined_data['likes_log']),np.mean(combined_data['views_log']),np.mean(combined_data['dislikes_log']),\n",
        "                                         np.mean(combined_data['comment_log'])]))"
      ],
      "execution_count": null,
      "outputs": [
        {
          "output_type": "stream",
          "text": [
            "check_feature_rescaling [8.5715901871888, 12.552679805013412, 5.614484952081086, 6.424543615108431]\n"
          ],
          "name": "stdout"
        }
      ]
    },
    {
      "cell_type": "markdown",
      "metadata": {
        "id": "Kqt6-d6NGA9F"
      },
      "source": [
        "#### 5.2.3: Plotting the distribution (2 pt)\n",
        "\n",
        "Plot the distribution for the newly created log features. They should look like normal distribution curves."
      ]
    },
    {
      "cell_type": "code",
      "metadata": {
        "id": "gM-HSdnGE5Cf",
        "colab": {
          "base_uri": "https://localhost:8080/",
          "height": 353
        },
        "outputId": "413f1bff-bcda-4823-c860-1f0d91c5d515"
      },
      "source": [
        "# Add your code here for plotting the distribution\n",
        "import matplotlib.pyplot as plt\n",
        "import seaborn as sns\n",
        "sns.distplot( combined_data['likes_log'] )\n"
      ],
      "execution_count": null,
      "outputs": [
        {
          "output_type": "stream",
          "text": [
            "/usr/local/lib/python3.7/dist-packages/seaborn/distributions.py:2557: FutureWarning: `distplot` is a deprecated function and will be removed in a future version. Please adapt your code to use either `displot` (a figure-level function with similar flexibility) or `histplot` (an axes-level function for histograms).\n",
            "  warnings.warn(msg, FutureWarning)\n"
          ],
          "name": "stderr"
        },
        {
          "output_type": "execute_result",
          "data": {
            "text/plain": [
              "<matplotlib.axes._subplots.AxesSubplot at 0x7fc4aaafd8d0>"
            ]
          },
          "metadata": {
            "tags": []
          },
          "execution_count": 16
        },
        {
          "output_type": "display_data",
          "data": {
            "image/png": "[encoded data removed]",
            "text/plain": [
              "<Figure size 432x288 with 1 Axes>"
            ]
          },
          "metadata": {
            "tags": [],
            "needs_background": "light"
          }
        }
      ]
    },
    {
      "cell_type": "code",
      "metadata": {
        "colab": {
          "base_uri": "https://localhost:8080/",
          "height": 354
        },
        "id": "BEby7NCumAlD",
        "outputId": "83bc271b-5f66-48fb-ff5a-744f1a070a12"
      },
      "source": [
        "sns.distplot( combined_data['views_log'] )\n"
      ],
      "execution_count": null,
      "outputs": [
        {
          "output_type": "stream",
          "text": [
            "/usr/local/lib/python3.7/dist-packages/seaborn/distributions.py:2557: FutureWarning: `distplot` is a deprecated function and will be removed in a future version. Please adapt your code to use either `displot` (a figure-level function with similar flexibility) or `histplot` (an axes-level function for histograms).\n",
            "  warnings.warn(msg, FutureWarning)\n"
          ],
          "name": "stderr"
        },
        {
          "output_type": "execute_result",
          "data": {
            "text/plain": [
              "<matplotlib.axes._subplots.AxesSubplot at 0x7fc4a1d3d6d0>"
            ]
          },
          "metadata": {
            "tags": []
          },
          "execution_count": 17
        },
        {
          "output_type": "display_data",
          "data": {
            "image/png": "[encoded data removed]",
            "text/plain": [
              "<Figure size 432x288 with 1 Axes>"
            ]
          },
          "metadata": {
            "tags": [],
            "needs_background": "light"
          }
        }
      ]
    },
    {
      "cell_type": "code",
      "metadata": {
        "colab": {
          "base_uri": "https://localhost:8080/",
          "height": 353
        },
        "id": "PZlAbFy5mDoD",
        "outputId": "315fac07-ac23-4013-fdce-fb0d963dcc23"
      },
      "source": [
        "sns.distplot( combined_data['dislikes_log'])\n"
      ],
      "execution_count": null,
      "outputs": [
        {
          "output_type": "stream",
          "text": [
            "/usr/local/lib/python3.7/dist-packages/seaborn/distributions.py:2557: FutureWarning: `distplot` is a deprecated function and will be removed in a future version. Please adapt your code to use either `displot` (a figure-level function with similar flexibility) or `histplot` (an axes-level function for histograms).\n",
            "  warnings.warn(msg, FutureWarning)\n"
          ],
          "name": "stderr"
        },
        {
          "output_type": "execute_result",
          "data": {
            "text/plain": [
              "<matplotlib.axes._subplots.AxesSubplot at 0x7fc4a1ce12d0>"
            ]
          },
          "metadata": {
            "tags": []
          },
          "execution_count": 18
        },
        {
          "output_type": "display_data",
          "data": {
            "image/png": "[encoded data removed]",
            "text/plain": [
              "<Figure size 432x288 with 1 Axes>"
            ]
          },
          "metadata": {
            "tags": [],
            "needs_background": "light"
          }
        }
      ]
    },
    {
      "cell_type": "code",
      "metadata": {
        "colab": {
          "base_uri": "https://localhost:8080/",
          "height": 353
        },
        "id": "6ucN0eoBmGTL",
        "outputId": "3ac1c6ff-e42d-434f-c7f4-d74b535fa975"
      },
      "source": [
        "sns.distplot( combined_data['comment_log'])"
      ],
      "execution_count": null,
      "outputs": [
        {
          "output_type": "stream",
          "text": [
            "/usr/local/lib/python3.7/dist-packages/seaborn/distributions.py:2557: FutureWarning: `distplot` is a deprecated function and will be removed in a future version. Please adapt your code to use either `displot` (a figure-level function with similar flexibility) or `histplot` (an axes-level function for histograms).\n",
            "  warnings.warn(msg, FutureWarning)\n"
          ],
          "name": "stderr"
        },
        {
          "output_type": "execute_result",
          "data": {
            "text/plain": [
              "<matplotlib.axes._subplots.AxesSubplot at 0x7fc4a1bfdf90>"
            ]
          },
          "metadata": {
            "tags": []
          },
          "execution_count": 19
        },
        {
          "output_type": "display_data",
          "data": {
            "image/png": "[encoded data removed]",
            "text/plain": [
              "<Figure size 432x288 with 1 Axes>"
            ]
          },
          "metadata": {
            "tags": [],
            "needs_background": "light"
          }
        }
      ]
    },
    {
      "cell_type": "markdown",
      "metadata": {
        "id": "AuCVICPLBV1l"
      },
      "source": [
        "#### 5.2.4: Comparing views, likes, dislikes against categories (3 pt)\n",
        "\n",
        "Let us gain isights into data using various catergories, views, likes and dislikes.\n",
        "\n",
        "Draw three plots for the following:\n",
        "\n",
        "1.) How many videos are there for each category?\n",
        "\n",
        "2.) What is the distribution of views against categories? (Use boxplot and views on log scale)\n",
        "\n",
        "3.) What is the distribution of dislikes against categories? (Use boxplot and dislikes on log scale)\n",
        "\n",
        "For extra credit:\n",
        "You can try to gain more insights into the dataset by drawing interesting plots. Some ideas include:\n",
        "\n",
        "* How long does a video trend in a country? \n",
        "* What are some videos which got popular because they were disliked? \n",
        "\n",
        "Think of such interesting things and add here. We will award points based on creativity of the insights that you get."
      ]
    },
    {
      "cell_type": "code",
      "metadata": {
        "id": "Vl_bgpXbB6kt",
        "colab": {
          "base_uri": "https://localhost:8080/",
          "height": 280
        },
        "outputId": "b5a5c3f0-3d0b-46fb-fc1a-f94356b9437b"
      },
      "source": [
        "# Your code goes here\n",
        "# Plots will be manually graded\n",
        "ax = sns.countplot(x=combined_data['category_id'])"
      ],
      "execution_count": null,
      "outputs": [
        {
          "output_type": "display_data",
          "data": {
            "image/png": "[encoded data removed]",
            "text/plain": [
              "<Figure size 432x288 with 1 Axes>"
            ]
          },
          "metadata": {
            "tags": [],
            "needs_background": "light"
          }
        }
      ]
    },
    {
      "cell_type": "code",
      "metadata": {
        "colab": {
          "base_uri": "https://localhost:8080/",
          "height": 298
        },
        "id": "aKvh_Q_-mpPA",
        "outputId": "70686200-cf1b-44e1-b39b-13242269e396"
      },
      "source": [
        "sns.boxplot(x='category_id', y='views_log', data=combined_data)"
      ],
      "execution_count": null,
      "outputs": [
        {
          "output_type": "execute_result",
          "data": {
            "text/plain": [
              "<matplotlib.axes._subplots.AxesSubplot at 0x7fc4a199cf90>"
            ]
          },
          "metadata": {
            "tags": []
          },
          "execution_count": 21
        },
        {
          "output_type": "display_data",
          "data": {
            "image/png": "[encoded data removed]",
            "text/plain": [
              "<Figure size 432x288 with 1 Axes>"
            ]
          },
          "metadata": {
            "tags": [],
            "needs_background": "light"
          }
        }
      ]
    },
    {
      "cell_type": "code",
      "metadata": {
        "colab": {
          "base_uri": "https://localhost:8080/",
          "height": 298
        },
        "id": "mx3B0ZaqnBhh",
        "outputId": "e08a516b-c6d0-4be0-85ef-320c212a020e"
      },
      "source": [
        "sns.boxplot(x='category_id', y='dislikes_log', data=combined_data)"
      ],
      "execution_count": null,
      "outputs": [
        {
          "output_type": "execute_result",
          "data": {
            "text/plain": [
              "<matplotlib.axes._subplots.AxesSubplot at 0x7fc4a17699d0>"
            ]
          },
          "metadata": {
            "tags": []
          },
          "execution_count": 22
        },
        {
          "output_type": "display_data",
          "data": {
            "image/png": "[encoded data removed]",
            "text/plain": [
              "<Figure size 432x288 with 1 Axes>"
            ]
          },
          "metadata": {
            "tags": [],
            "needs_background": "light"
          }
        }
      ]
    },
    {
      "cell_type": "markdown",
      "metadata": {
        "id": "a9l7UZPoGBcB"
      },
      "source": [
        "#### 5.2.5: Feature Engineering (8 pts)\n"
      ]
    },
    {
      "cell_type": "markdown",
      "metadata": {
        "id": "bUSsAlnaI4Ep"
      },
      "source": [
        "\n",
        "##### a. Processing tags (1 pt)\n",
        "\n",
        "The feature tags in the dataset has a delimiter, use that delimiter to count the number of tags, create a feature called num_tags and add that to the dataset."
      ]
    },
    {
      "cell_type": "code",
      "metadata": {
        "id": "4L_6WcapHPDl"
      },
      "source": [
        "# Add your code here\n",
        "\n",
        "combined_data[\"num_tags\"]=combined_data.tags.str.split('|').str.len()"
      ],
      "execution_count": null,
      "outputs": []
    },
    {
      "cell_type": "code",
      "metadata": {
        "id": "57JmEPBymkMQ"
      },
      "source": [],
      "execution_count": null,
      "outputs": []
    },
    {
      "cell_type": "markdown",
      "metadata": {
        "id": "8bnJqokpI1Mj"
      },
      "source": [
        "##### b. Processing description and title (2 pts.)\n",
        "\n",
        "Calculate the length of description and title and add them as features to the dataset"
      ]
    },
    {
      "cell_type": "code",
      "metadata": {
        "id": "NJyWb54zHes2"
      },
      "source": [
        "# Add your code here\n",
        "combined_data[\"desc_len\"]= combined_data.description.str.len()"
      ],
      "execution_count": null,
      "outputs": []
    },
    {
      "cell_type": "code",
      "metadata": {
        "id": "ZPMnQhbJHgx0"
      },
      "source": [
        "# Add your code here\n",
        "combined_data[\"len_title\"]= combined_data.title.str.len()\n",
        "\n",
        "\n"
      ],
      "execution_count": null,
      "outputs": []
    },
    {
      "cell_type": "code",
      "metadata": {
        "id": "ksE7fNPQS_qr",
        "colab": {
          "base_uri": "https://localhost:8080/"
        },
        "outputId": "6480acb0-b682-4cc8-d19a-68317060fc91"
      },
      "source": [
        "# Print cell\n",
        "print('check_tags_title_description',([combined_data['num_tags'].describe(),combined_data['desc_len'].describe(),combined_data['len_title'].describe()]))"
      ],
      "execution_count": null,
      "outputs": [
        {
          "output_type": "stream",
          "text": [
            "check_tags_title_description [count    154567.000000\n",
            "mean         18.629002\n",
            "std          11.856148\n",
            "min           1.000000\n",
            "25%           9.000000\n",
            "50%          17.000000\n",
            "75%          26.000000\n",
            "max         124.000000\n",
            "Name: num_tags, dtype: float64, count    154567.000000\n",
            "mean        959.949426\n",
            "std         857.504028\n",
            "min           1.000000\n",
            "25%         363.000000\n",
            "50%         717.000000\n",
            "75%        1288.000000\n",
            "max        5260.000000\n",
            "Name: desc_len, dtype: float64, count    154567.000000\n",
            "mean         56.408541\n",
            "std          22.976198\n",
            "min           2.000000\n",
            "25%          38.000000\n",
            "50%          54.000000\n",
            "75%          74.000000\n",
            "max         100.000000\n",
            "Name: len_title, dtype: float64]\n"
          ],
          "name": "stdout"
        }
      ]
    },
    {
      "cell_type": "markdown",
      "metadata": {
        "id": "aOaB6ZbCJTBv"
      },
      "source": [
        "##### c. Processing publish_time. (4 pts.)\n",
        "\n",
        "\n",
        "Split 'publish_time' feature into three parts time, date, and weekday, where time will contain the time component of the original feature and date and weekday will store the corresponding date and weekday number respectively. Start with 1 for Monday and end with 7 for Sunday."
      ]
    },
    {
      "cell_type": "code",
      "metadata": {
        "id": "cNmVajpopMEH"
      },
      "source": [],
      "execution_count": null,
      "outputs": []
    },
    {
      "cell_type": "code",
      "metadata": {
        "id": "ZVJTEJRFHrI5"
      },
      "source": [
        "# Add your code here\n",
        "\n",
        "combined_data['publish_date'] = pd.to_datetime(combined_data['publish_time']).dt.date\n",
        "combined_data['publish_time'] = pd.to_datetime(combined_data['publish_time']).dt.time\n",
        "\n",
        "#day on which video was published\n",
        "combined_data['publish_weekday']= pd.to_datetime(combined_data['publish_date']).dt.weekday\n",
        "combined_data['publish_weekday'] = combined_data['publish_weekday'] + 1\n",
        "\n",
        "import random\n",
        "random_index = random.randint(0,combined_data.shape[0]-1)\n",
        "\n"
      ],
      "execution_count": null,
      "outputs": []
    },
    {
      "cell_type": "code",
      "metadata": {
        "id": "Ud5dPVljTDoQ",
        "colab": {
          "base_uri": "https://localhost:8080/"
        },
        "outputId": "66b4e43b-470f-4ecd-ae6c-defa9c5b1425"
      },
      "source": [
        "# Print cell\n",
        "print('check_date_time_processing',([combined_data['publish_time'].iloc[random_index],combined_data['publish_date'].iloc[random_index],sorted(list(combined_data[\"publish_weekday\"].value_counts()))]))"
      ],
      "execution_count": null,
      "outputs": [
        {
          "output_type": "stream",
          "text": [
            "check_date_time_processing [datetime.time(8, 25, 13), datetime.date(2018, 1, 16), [18641, 18931, 22146, 22501, 22523, 23573, 26252]]\n"
          ],
          "name": "stdout"
        }
      ]
    },
    {
      "cell_type": "markdown",
      "metadata": {
        "id": "mx1JPowWKKE7"
      },
      "source": [
        "##### d. Number of videos per weekday (1 pt)\n",
        "\n",
        "Calculate the number of videos published per day of the week. Which day of the week do people publish most videos? Make a visualization demonstrating the result."
      ]
    },
    {
      "cell_type": "code",
      "metadata": {
        "id": "IYNXbH9AKhzy",
        "colab": {
          "base_uri": "https://localhost:8080/",
          "height": 298
        },
        "outputId": "6587b77c-3200-4e3d-da39-eca49fb2bf4f"
      },
      "source": [
        "# Add your code for plot here\n",
        "sns.countplot(x=combined_data[\"publish_weekday\"])\n",
        "# Plots will be manually graded\n",
        "print(combined_data[\"publish_weekday\"].value_counts().max())"
      ],
      "execution_count": null,
      "outputs": [
        {
          "output_type": "stream",
          "text": [
            "26252\n"
          ],
          "name": "stdout"
        },
        {
          "output_type": "display_data",
          "data": {
            "image/png": "[encoded data removed]",
            "text/plain": [
              "<Figure size 432x288 with 1 Axes>"
            ]
          },
          "metadata": {
            "tags": [],
            "needs_background": "light"
          }
        }
      ]
    },
    {
      "cell_type": "markdown",
      "metadata": {
        "id": "qd7dG7GTKrVQ"
      },
      "source": [
        "#### 5.2.6: Dropping irrelevant non numeric columns (1 pt.)\n",
        "\n",
        "Drop all the columns that are non-numeric as we have processed them and stored the information captured in them in the dataset as numbers. \n",
        "\n",
        "Note that a few key columns are non-numeric but should be kept in the dataframe:\n",
        "\n",
        "comments_disabled, ratings_disabled, video_error_or_removed, country\n",
        "\n",
        "Also drop original views, like, comments and dislikes as you have processed them as logs and stored them as separate feature. "
      ]
    },
    {
      "cell_type": "code",
      "metadata": {
        "id": "UtSoKgf7IOrJ"
      },
      "source": [
        "# Add your code here\n",
        "combined_data = combined_data.drop(['views','likes','dislikes','comment_count','trending_date','title','category','channel_title','thumbnail_link','description','trending_date','tags','publish_time','publish_date'],axis = 1)"
      ],
      "execution_count": null,
      "outputs": []
    },
    {
      "cell_type": "markdown",
      "metadata": {
        "id": "_HtmJiKYLlxx"
      },
      "source": [
        "#### 5.2.7: Convert categorical features in the dataset into one hot vectors. (3 pts)\n",
        "\n",
        "There are three categorical features remaining in the dataset, identify them and convert them into one hot vectors. Be sure that when you one hot encode, the original column is replaced."
      ]
    },
    {
      "cell_type": "code",
      "metadata": {
        "id": "63tJVBE0Kkju"
      },
      "source": [
        "\n",
        "combined_data.publish_weekday = combined_data.publish_weekday.astype('category')\n",
        "combined_data.country = combined_data.country.astype('category')\n",
        "\n",
        "# Hint: Use pd.get_dummies()range. \n",
        "combined_data = pd.get_dummies(data=combined_data, columns=['video_error_or_removed','ratings_disabled','comments_disabled','country'])\n",
        "\n",
        "\n"
      ],
      "execution_count": null,
      "outputs": []
    },
    {
      "cell_type": "code",
      "metadata": {
        "id": "xoC5xvGGPw-X",
        "colab": {
          "base_uri": "https://localhost:8080/"
        },
        "outputId": "a1da9239-118a-4e7f-f772-82113db36ec1"
      },
      "source": [
        "# Print cell.\n",
        "print('check_final_df',(combined_data.shape))"
      ],
      "execution_count": null,
      "outputs": [
        {
          "output_type": "stream",
          "text": [
            "check_final_df (154567, 20)\n"
          ],
          "name": "stdout"
        }
      ]
    },
    {
      "cell_type": "code",
      "metadata": {
        "id": "JdHUz2_s1EJc"
      },
      "source": [],
      "execution_count": null,
      "outputs": []
    },
    {
      "cell_type": "markdown",
      "metadata": {
        "id": "kAsgbsEn6lzv"
      },
      "source": [
        "Let's write out the modified data we created to a file so that we can reuse it in Section 2."
      ]
    },
    {
      "cell_type": "code",
      "metadata": {
        "id": "-t8fKXq36k6P"
      },
      "source": [
        "combined_data.reset_index(drop=True, inplace=True)\n",
        "combined_data.rename(columns = {'views_log':'label','country_CAvideos.csv':'country_CAvideos','country_FRvideos.csv':'country_FRvideos','country_INvideos.csv':'country_INvideos','country_USvideos.csv':'country_USvideos'}, inplace = True) \n",
        "combined_data= combined_data.drop(columns='video_id')\n",
        "combined_data_sec_2 = combined_data.copy()\n",
        "combined_data_sec_2.rename(columns = {'views_log':'label'}, inplace = True) \n",
        "combined_data_sec_2.to_csv('combined_data.csv')\n"
      ],
      "execution_count": null,
      "outputs": []
    },
    {
      "cell_type": "code",
      "metadata": {
        "id": "xkPqV_VIygwo"
      },
      "source": [],
      "execution_count": null,
      "outputs": []
    },
    {
      "cell_type": "markdown",
      "metadata": {
        "id": "FIcXjRtDMlFt"
      },
      "source": [
        "#### 5.2.8: Split into x and y (1 pt)\n",
        "\n",
        "Split the data into features and label, in this case the features are anything but views_log and the label is views_log."
      ]
    },
    {
      "cell_type": "code",
      "metadata": {
        "id": "3nSwRvMSSFa3"
      },
      "source": [
        "# Add your code here\n",
        "label = combined_data['label']\n",
        "features = combined_data.drop('label',axis=1)"
      ],
      "execution_count": null,
      "outputs": []
    },
    {
      "cell_type": "code",
      "metadata": {
        "id": "r6opJ4LOPygd",
        "colab": {
          "base_uri": "https://localhost:8080/"
        },
        "outputId": "a52d1816-1e5b-4ef7-cfa1-71bbc9e8d2a3"
      },
      "source": [
        "# print cell\n",
        "print('check_x_y_split',([features.shape, label.describe()]))"
      ],
      "execution_count": null,
      "outputs": [
        {
          "output_type": "stream",
          "text": [
            "check_x_y_split [(154567, 18), count    154567.000000\n",
            "mean         12.552680\n",
            "std           1.816821\n",
            "min           5.411646\n",
            "25%          11.469496\n",
            "50%          12.655328\n",
            "75%          13.761413\n",
            "max          19.232552\n",
            "Name: label, dtype: float64]\n"
          ],
          "name": "stdout"
        }
      ]
    },
    {
      "cell_type": "markdown",
      "metadata": {
        "id": "a9rwVcftQJwu"
      },
      "source": [
        "## 5.3 : Machine Learning using sklearn (15 pts)\n",
        "\n",
        "Scikit-learn (formerly scikits.learn and also known as sklearn) is a free software machine learning library for the Python programming language. It features various classification, regression and clustering algorithms including support vector machines, random forests, gradient boosting, k-means and DBSCAN, and is designed to interoperate with the Python numerical and scientific libraries NumPy and SciPy.\n",
        "\n",
        "You can find the documentation [here](https://scikit-learn.org/stable/modules/classes.html)\n",
        "\n",
        "Now we will train some machine learning models using sklearn to predict views, rather than predicting views directly we will predict views_log to avoid numerical instability issues"
      ]
    },
    {
      "cell_type": "markdown",
      "metadata": {
        "id": "5955JflOaxtP"
      },
      "source": [
        "### 5.3.1 : Split data into train and test (1 pt)\n",
        "\n",
        "Use sklearn's train_test_split library and split data into train and test sets, the split should be 80-20 meaning 80% for training and rest for testing.\n"
      ]
    },
    {
      "cell_type": "code",
      "metadata": {
        "id": "1b5bKkQkR9lT"
      },
      "source": [
        "from sklearn.model_selection import train_test_split\n",
        "# Add your code here\n",
        "\n",
        "x_train, x_test, y_train, y_test = train_test_split(features, label, test_size=.2)\n"
      ],
      "execution_count": null,
      "outputs": []
    },
    {
      "cell_type": "code",
      "metadata": {
        "id": "azYR-gZ1QKwK",
        "colab": {
          "base_uri": "https://localhost:8080/"
        },
        "outputId": "6ade3daf-dab3-49ae-fc01-5c96e99f6beb"
      },
      "source": [
        "# print cell.\n",
        "print('check_data_split',[x_train.shape,x_test.shape,y_train.shape,y_test.shape])"
      ],
      "execution_count": null,
      "outputs": [
        {
          "output_type": "stream",
          "text": [
            "check_data_split [(123653, 18), (30914, 18), (123653,), (30914,)]\n"
          ],
          "name": "stdout"
        }
      ]
    },
    {
      "cell_type": "markdown",
      "metadata": {
        "id": "dbfiYK_8RGKI"
      },
      "source": [
        "### 5.3.2: Train Machine Learning Models."
      ]
    },
    {
      "cell_type": "markdown",
      "metadata": {
        "id": "7EPYfVVMRMDd"
      },
      "source": [
        "#### 5.3.2.1 Linear Regression (3 pts)\n",
        "\n",
        "In this step we will train a linear regression model using sklearn. Train using the training data and then make predictions of test, report the mean squared error obtained on both train and test sets."
      ]
    },
    {
      "cell_type": "code",
      "metadata": {
        "id": "A6wS3Rc_TZGT"
      },
      "source": [
        "from sklearn.linear_model import LinearRegression\n",
        "from sklearn.metrics import mean_squared_error\n",
        "linear_reg = LinearRegression()\n",
        "linear_reg.fit(x_train,y_train)\n",
        "predictions = linear_reg.predict(x_test)\n",
        "mse_test = mean_squared_error(y_test, predictions)\n",
        "\n"
      ],
      "execution_count": null,
      "outputs": []
    },
    {
      "cell_type": "code",
      "metadata": {
        "id": "YmSfKICYQLuh",
        "colab": {
          "base_uri": "https://localhost:8080/"
        },
        "outputId": "46b25886-85ad-4a7c-e020-5479fbc46655"
      },
      "source": [
        "print('check_lr', (np.sqrt(mean_squared_error(y_test, predictions))))"
      ],
      "execution_count": null,
      "outputs": [
        {
          "output_type": "stream",
          "text": [
            "check_lr 0.6900432535395354\n"
          ],
          "name": "stdout"
        }
      ]
    },
    {
      "cell_type": "markdown",
      "metadata": {
        "id": "jpu9aiyYbAUS"
      },
      "source": [
        "#### 5.3.2.2  Dimensionality reduction with PCA (6 pts)\n",
        "\n"
      ]
    },
    {
      "cell_type": "markdown",
      "metadata": {
        "id": "aTqcy4x-TXv9"
      },
      "source": [
        "##### Step 1: Fitting PCA and explained_variance_ratiio\n",
        "Use Principal component analysis to reduce number of dimensions of the dataset, as a first step fit a pca model on your train set and then plot the explained_variance_ratio against the number of components to decide the number of components you should keep. (3 pts)"
      ]
    },
    {
      "cell_type": "code",
      "metadata": {
        "id": "NjpuExM0Vx8s",
        "colab": {
          "base_uri": "https://localhost:8080/"
        },
        "outputId": "1794d10e-2ca7-4672-c763-835496fa35d0"
      },
      "source": [
        "import numpy as np\n",
        "from sklearn.decomposition import PCA\n",
        "# Add your code here\n",
        "pca = PCA()\n",
        "pca.fit_transform(x_train)"
      ],
      "execution_count": null,
      "outputs": [
        {
          "output_type": "execute_result",
          "data": {
            "text/plain": [
              "array([[-5.16779070e+02, -2.40098976e+01,  5.32519281e+00, ...,\n",
              "        -9.35334785e-16,  4.16136311e-15,  3.56988063e-15],\n",
              "       [-4.28743403e+02, -2.92004439e+01,  1.20219509e+01, ...,\n",
              "         7.29087257e-17, -9.13808836e-16,  7.75225839e-16],\n",
              "       [ 1.77198686e+02,  1.27739970e+01,  1.94942460e+01, ...,\n",
              "        -3.75869411e-17,  3.79115517e-16, -6.42717291e-16],\n",
              "       ...,\n",
              "       [-7.65801936e+02, -3.60498276e+01, -6.60787858e+00, ...,\n",
              "         9.30325696e-18, -2.31758339e-17, -2.20787022e-18],\n",
              "       [ 6.61776846e+01,  2.15611641e+01,  1.93856600e+01, ...,\n",
              "        -2.05949481e-18, -1.51360607e-17, -4.51864875e-19],\n",
              "       [ 4.05421975e+03,  2.17032380e+01,  2.02211679e+01, ...,\n",
              "         5.18516820e-18, -2.66268399e-17, -4.17547833e-18]])"
            ]
          },
          "metadata": {
            "tags": []
          },
          "execution_count": 40
        }
      ]
    },
    {
      "cell_type": "markdown",
      "metadata": {
        "id": "jPbEQwiRR2Ta"
      },
      "source": [
        "##### Step 2: Deciding number of components to keep\n",
        "Use the plot to decide the number of components to keep, choose a number that explains atleast 95% of variance in the dataset. Then fit and transform your pca on training set using the number of components you decided. (1 pts)\n",
        "\n",
        "**Remember that your pca should be trained on the training set (and transformed here) but only transformed on the test set.**"
      ]
    },
    {
      "cell_type": "code",
      "metadata": {
        "id": "5OfN7anNQNFy",
        "colab": {
          "base_uri": "https://localhost:8080/",
          "height": 279
        },
        "outputId": "23d07120-9711-40a4-bbba-58ed82b0bc98"
      },
      "source": [
        "# Add your code here\n",
        "plt.plot(np.cumsum(pca.explained_variance_ratio_))\n",
        "plt.xlabel('variables')\n",
        "plt.ylabel('variance');"
      ],
      "execution_count": null,
      "outputs": [
        {
          "output_type": "display_data",
          "data": {
            "image/png": "[encoded data removed]",
            "text/plain": [
              "<Figure size 432x288 with 1 Axes>"
            ]
          },
          "metadata": {
            "tags": [],
            "needs_background": "light"
          }
        }
      ]
    },
    {
      "cell_type": "code",
      "metadata": {
        "id": "nH0uCQu070On"
      },
      "source": [
        "pca = PCA(n_components=4)\n",
        "pca = pca.fit_transform(features)\n",
        "modified_var = pca.copy()\n"
      ],
      "execution_count": null,
      "outputs": []
    },
    {
      "cell_type": "code",
      "metadata": {
        "id": "HuX6Y30C70Cm"
      },
      "source": [
        "x_train, x_test, y_train, y_test = train_test_split(modified_var, label, test_size=.2)"
      ],
      "execution_count": null,
      "outputs": []
    },
    {
      "cell_type": "markdown",
      "metadata": {
        "id": "4sw_JKLLbMcc"
      },
      "source": [
        "### 5.3.2.3 Random Forest. (10 pts)\n",
        "\n"
      ]
    },
    {
      "cell_type": "markdown",
      "metadata": {
        "id": "UwTfPha2TUub"
      },
      "source": [
        "##### Step 1: Hyperparameter tuning. \n",
        "Use grid search and train a random forest model on the transformed train dataset. Take a look at the sklearn `RandomForestRegressor` documentation and tune the max_depth hyperparameter using grid search. We have already tested the number of estimators hyperparameter for you. Note this section may take a while to run depending on how large your grid is. \n",
        "\n",
        "(Hint: refer to the GridSearchCV documentation and do some reading on how the max_depth in a RF model affects the result - while theory may help guide a rough estimate of possible hyperparameters, we can cross validate values using tools like GridSearch.\n",
        "\n",
        "Our autograder has tiered points for this question depending on your final MSE value but is fairly generous; we are not requiring that you find the **most** optimal value for this hyperparameter but rather demonstrate understanding of grid search optimization. (4 pts)\n"
      ]
    },
    {
      "cell_type": "code",
      "metadata": {
        "id": "W08Wd5JKZWyz",
        "colab": {
          "base_uri": "https://localhost:8080/"
        },
        "outputId": "543141c9-3d0b-479e-ac13-7809c8e3e926"
      },
      "source": [
        "from sklearn.ensemble import RandomForestRegressor\n",
        "from sklearn.model_selection import GridSearchCV\n",
        "# Add your code here\n",
        "\n",
        "# depth = []\n",
        "# nEstimator = [140]\n",
        "from sklearn.ensemble import RandomForestRegressor\n",
        "from sklearn.model_selection import GridSearchCV\n",
        "# Add your code here\n",
        "random_forest = RandomForestRegressor()\n",
        "grid_search = GridSearchCV(random_forest,{'n_estimators': [140], 'max_depth': [4,5,7]})\n",
        "grid_search.fit(x_train, y_train)\n"
      ],
      "execution_count": null,
      "outputs": [
        {
          "output_type": "execute_result",
          "data": {
            "text/plain": [
              "GridSearchCV(cv=None, error_score=nan,\n",
              "             estimator=RandomForestRegressor(bootstrap=True, ccp_alpha=0.0,\n",
              "                                             criterion='mse', max_depth=None,\n",
              "                                             max_features='auto',\n",
              "                                             max_leaf_nodes=None,\n",
              "                                             max_samples=None,\n",
              "                                             min_impurity_decrease=0.0,\n",
              "                                             min_impurity_split=None,\n",
              "                                             min_samples_leaf=1,\n",
              "                                             min_samples_split=2,\n",
              "                                             min_weight_fraction_leaf=0.0,\n",
              "                                             n_estimators=100, n_jobs=None,\n",
              "                                             oob_score=False, random_state=None,\n",
              "                                             verbose=0, warm_start=False),\n",
              "             iid='deprecated', n_jobs=None,\n",
              "             param_grid={'max_depth': [4, 5, 7], 'n_estimators': [140]},\n",
              "             pre_dispatch='2*n_jobs', refit=True, return_train_score=False,\n",
              "             scoring=None, verbose=0)"
            ]
          },
          "metadata": {
            "tags": []
          },
          "execution_count": 44
        }
      ]
    },
    {
      "cell_type": "code",
      "metadata": {
        "colab": {
          "base_uri": "https://localhost:8080/"
        },
        "id": "oJgq_UABBUDq",
        "outputId": "491ee82a-9c76-4085-dfe7-81a9615a97eb"
      },
      "source": [
        "grid_search.best_params_"
      ],
      "execution_count": null,
      "outputs": [
        {
          "output_type": "execute_result",
          "data": {
            "text/plain": [
              "{'max_depth': 7, 'n_estimators': 140}"
            ]
          },
          "metadata": {
            "tags": []
          },
          "execution_count": 45
        }
      ]
    },
    {
      "cell_type": "markdown",
      "metadata": {
        "id": "cLnVsNVzS2Co"
      },
      "source": [
        "##### Step 2: Fitting RF\n",
        "Fit the random forest on the training data using the parameters you computed above. Then make predictions on the test set, report the root mean squared error for the test set. (3 pts)"
      ]
    },
    {
      "cell_type": "code",
      "metadata": {
        "id": "3avoNnIaZe3P"
      },
      "source": [
        "# Add your code here\n",
        "# Set n_estimators = 140\n",
        "from sklearn.ensemble import RandomForestRegressor\n",
        "random_forest = RandomForestRegressor(n_estimators = 140, random_state=30)\n",
        "random_forest.fit(x_train, y_train)\n",
        "predictions = random_forest.predict(x_test)\n",
        "mse = mean_squared_error(y_test, predictions)"
      ],
      "execution_count": null,
      "outputs": []
    },
    {
      "cell_type": "code",
      "metadata": {
        "id": "XYrdo2CgTThM",
        "colab": {
          "base_uri": "https://localhost:8080/"
        },
        "outputId": "7c46132c-0856-4550-ce36-4e76f10ade80"
      },
      "source": [
        "# Print cell\n",
        "print('check_rf', (np.sqrt(mean_squared_error(y_test, predictions))))"
      ],
      "execution_count": null,
      "outputs": [
        {
          "output_type": "stream",
          "text": [
            "check_rf 0.7531925128092245\n"
          ],
          "name": "stdout"
        }
      ]
    },
    {
      "cell_type": "markdown",
      "metadata": {
        "id": "-ywlOaie7wVF"
      },
      "source": [
        "## Almost halfway there :)\n",
        "\n",
        "Well done! Almost halfway there :)\n",
        "\n"
      ]
    },
    {
      "cell_type": "markdown",
      "metadata": {
        "id": "q_eSiS5ZbVjf"
      },
      "source": [
        "# Section 2 : Distributed Machine Learning with Spark (55 Points)\n",
        "\n",
        "Apache Spark ML is the machine learning library consisting of common learning algorithms and utilities, including classification, regression, clustering, collaborative filtering, dimensionality reduction, and underlying optimization primitives.\n",
        "\n",
        "Why Spark ML?\n",
        "\n",
        "Moving to the Big Data Era requires heavy iterative computations on very big datasets. Standard implementations of machine learning algorithms require very powerful machines to be able to run. Depending on high-end machines is not advantageous due to their high price and improper costs of scaling up. The idea of using distributed computing engines is to distribute the calculations to multiple low-end machines (commodity hardware) instead of a single high-end one. This definitely speeds up the learning phase and allows us to create better models.\n",
        "\n",
        "Read more about it with the python documentation [here](https://spark.apache.org/docs/latest/ml-guide.html)"
      ]
    },
    {
      "cell_type": "markdown",
      "metadata": {
        "id": "R4nyIijZhTXK"
      },
      "source": [
        "### Initializing Spark Connection - Boring setup stuff again\n"
      ]
    },
    {
      "cell_type": "code",
      "metadata": {
        "id": "G8RH4R771X6n"
      },
      "source": [
        "%%capture\n",
        "!apt install libkrb5-dev\n",
        "!wget https://www-us.apache.org/dist/spark/spark-3.0.2/spark-3.0.2-bin-hadoop3.2.tgz\n",
        "!tar xf spark-3.0.2-bin-hadoop3.2.tgz\n",
        "!pip install findspark\n",
        "!pip install sparkmagic\n",
        "!pip install pyspark\n",
        "! pip install pyspark --user\n",
        "!pip install seaborn --user\n",
        "!pip install plotly --user\n",
        "!pip install imageio --user\n",
        "!pip install folium --user"
      ],
      "execution_count": null,
      "outputs": []
    },
    {
      "cell_type": "code",
      "metadata": {
        "id": "pNctzcXRkexY",
        "colab": {
          "base_uri": "https://localhost:8080/"
        },
        "outputId": "e79aeae7-b2ef-409c-e25c-75e30701e2f7"
      },
      "source": [
        "!apt update\n",
        "!apt install gcc python-dev libkrb5-dev"
      ],
      "execution_count": null,
      "outputs": [
        {
          "output_type": "stream",
          "text": [
            "\u001b[33m\r0% [Working]\u001b[0m\r            \rGet:1 https://cloud.r-project.org/bin/linux/ubuntu bionic-cran40/ InRelease [3,626 B]\n",
            "Ign:2 https://developer.download.nvidia.com/compute/cuda/repos/ubuntu1804/x86_64  InRelease\n",
            "Get:3 http://security.ubuntu.com/ubuntu bionic-security InRelease [88.7 kB]\n",
            "Ign:4 https://developer.download.nvidia.com/compute/machine-learning/repos/ubuntu1804/x86_64  InRelease\n",
            "Hit:5 https://developer.download.nvidia.com/compute/cuda/repos/ubuntu1804/x86_64  Release\n",
            "Hit:6 http://archive.ubuntu.com/ubuntu bionic InRelease\n",
            "Hit:7 https://developer.download.nvidia.com/compute/machine-learning/repos/ubuntu1804/x86_64  Release\n",
            "Get:8 http://ppa.launchpad.net/c2d4u.team/c2d4u4.0+/ubuntu bionic InRelease [15.9 kB]\n",
            "Get:10 http://archive.ubuntu.com/ubuntu bionic-updates InRelease [88.7 kB]\n",
            "Hit:12 http://ppa.launchpad.net/cran/libgit2/ubuntu bionic InRelease\n",
            "Get:13 http://archive.ubuntu.com/ubuntu bionic-backports InRelease [74.6 kB]\n",
            "Hit:14 http://ppa.launchpad.net/deadsnakes/ppa/ubuntu bionic InRelease\n",
            "Get:15 http://security.ubuntu.com/ubuntu bionic-security/main amd64 Packages [1,963 kB]\n",
            "Get:16 http://archive.ubuntu.com/ubuntu bionic-updates/universe amd64 Packages [2,163 kB]\n",
            "Hit:17 http://ppa.launchpad.net/graphics-drivers/ppa/ubuntu bionic InRelease\n",
            "Get:18 http://ppa.launchpad.net/c2d4u.team/c2d4u4.0+/ubuntu bionic/main Sources [1,739 kB]\n",
            "Get:19 http://security.ubuntu.com/ubuntu bionic-security/universe amd64 Packages [1,392 kB]\n",
            "Get:20 http://archive.ubuntu.com/ubuntu bionic-updates/main amd64 Packages [2,395 kB]\n",
            "Get:21 http://ppa.launchpad.net/c2d4u.team/c2d4u4.0+/ubuntu bionic/main amd64 Packages [889 kB]\n",
            "Fetched 10.8 MB in 6s (1,804 kB/s)\n",
            "Reading package lists... Done\n",
            "Building dependency tree       \n",
            "Reading state information... Done\n",
            "39 packages can be upgraded. Run 'apt list --upgradable' to see them.\n",
            "Reading package lists... Done\n",
            "Building dependency tree       \n",
            "Reading state information... Done\n",
            "python-dev is already the newest version (2.7.15~rc1-1).\n",
            "gcc is already the newest version (4:7.4.0-1ubuntu2.3).\n",
            "gcc set to manually installed.\n",
            "libkrb5-dev is already the newest version (1.16-2ubuntu0.2).\n",
            "0 upgraded, 0 newly installed, 0 to remove and 39 not upgraded.\n"
          ],
          "name": "stdout"
        }
      ]
    },
    {
      "cell_type": "code",
      "metadata": {
        "id": "PP28kxLekWG7"
      },
      "source": [
        "from pyspark.sql import SparkSession\n",
        "from pyspark.sql.types import *\n",
        "import pyspark.sql.functions as F\n",
        "\n",
        "import os\n",
        "\n",
        "spark = SparkSession.builder.appName('CA-5').getOrCreate()\n"
      ],
      "execution_count": null,
      "outputs": []
    },
    {
      "cell_type": "code",
      "metadata": {
        "id": "7Gm6aXPq1Ulc"
      },
      "source": [
        "%load_ext sparkmagic.magics"
      ],
      "execution_count": null,
      "outputs": []
    },
    {
      "cell_type": "code",
      "metadata": {
        "id": "NiGROEgu1gfN"
      },
      "source": [
        "#graph section\n",
        "import networkx as nx\n",
        "# SQLite RDBMS\n",
        "import sqlite3\n",
        "# Parallel processing\n",
        "# import swifter\n",
        "import pandas as pd\n",
        "# NoSQL DB\n",
        "from pymongo import MongoClient\n",
        "from pymongo.errors import DuplicateKeyError, OperationFailure\n",
        "\n",
        "import os\n",
        "os.environ['SPARK_HOME'] = \"/content/spark-3.0.2-bin-hadoop3.2\"\n",
        "os.environ[\"JAVA_HOME\"] = \"/usr/lib/jvm/java-8-openjdk-amd64\"\n",
        "import pyspark\n",
        "from pyspark.sql import SQLContext"
      ],
      "execution_count": null,
      "outputs": []
    },
    {
      "cell_type": "code",
      "metadata": {
        "id": "bF0xipwC1hme"
      },
      "source": [
        "try:\n",
        "    if(spark == None):\n",
        "        spark = SparkSession.builder.appName('Initial').getOrCreate()\n",
        "        sqlContext=SQLContext(spark)\n",
        "except NameError:\n",
        "    spark = SparkSession.builder.appName('Initial').getOrCreate()\n",
        "    sqlContext=SQLContext(spark)\n"
      ],
      "execution_count": null,
      "outputs": []
    },
    {
      "cell_type": "markdown",
      "metadata": {
        "id": "cbj7zOGQW7A2"
      },
      "source": [
        "### 5.1 Data Preparation for Spark ML (20 points)\n",
        "\n",
        "Once the spark setup ready. Next, we need the prepared data for our ML algorithms. We will use the same data you processed in Section 1 but now in spark. \n",
        "\n",
        "Read in the csv  into a spark dataframe. Set the \"inferSchema\" flag to True so that the columns are the correct datatypes and not all strings. Further, set the parameter to the first row as column headers."
      ]
    },
    {
      "cell_type": "code",
      "metadata": {
        "id": "EFfs7q3P1KHX"
      },
      "source": [
        "# Add your code here\n",
        "\n",
        "train_sdf = spark.read.option(\"inferSchema\", \"true\").option(\"header\", \"true\").csv(\"combined_data.csv\")"
      ],
      "execution_count": null,
      "outputs": []
    },
    {
      "cell_type": "markdown",
      "metadata": {
        "id": "CbC1qlzhXd6L"
      },
      "source": [
        "Let us make sure everything is smooth to proceed"
      ]
    },
    {
      "cell_type": "code",
      "metadata": {
        "id": "sTb1GN4-1EXc",
        "colab": {
          "base_uri": "https://localhost:8080/"
        },
        "outputId": "7790f0aa-b810-41bc-a769-a516d5b37561"
      },
      "source": [
        "train_sdf.show()"
      ],
      "execution_count": null,
      "outputs": [
        {
          "output_type": "stream",
          "text": [
            "+---+-----------+------------------+------------------+------------------+------------------+--------+--------+---------+---------------+----------------------------+---------------------------+----------------------+---------------------+-----------------------+----------------------+----------------+----------------+----------------+----------------+\n",
            "|_c0|category_id|         likes_log|             label|      dislikes_log|       comment_log|num_tags|desc_len|len_title|publish_weekday|video_error_or_removed_False|video_error_or_removed_True|ratings_disabled_False|ratings_disabled_True|comments_disabled_False|comments_disabled_True|country_CAvideos|country_FRvideos|country_INvideos|country_USvideos|\n",
            "+---+-----------+------------------+------------------+------------------+------------------+--------+--------+---------+---------------+----------------------------+---------------------------+----------------------+---------------------+-----------------------+----------------------+----------------+----------------+----------------+----------------+\n",
            "|  0|         24|10.284762421843075|12.267652105461218| 7.011213987350367| 8.247482004285693|       6|    1412|       40|              1|                           1|                          0|                     1|                    0|                      1|                     0|               0|               1|               0|               0|\n",
            "|  1|         24| 9.550662331752143|12.977850768461046|   6.3578422665081| 7.057897937411856|       1|    1828|      100|              7|                           1|                          0|                     1|                    0|                      1|                     0|               0|               1|               0|               0|\n",
            "|  2|         24|  9.13637085177601|12.142360449558572| 7.231287004327616| 7.791522819150732|      20|    1026|       50|              7|                           1|                          0|                     1|                    0|                      1|                     0|               0|               1|               0|               0|\n",
            "|  3|         24| 7.423568444259167| 11.41918605086728|  7.55171221535131| 6.553933404025811|       8|     341|       82|              1|                           1|                          0|                     1|                    0|                      1|                     0|               0|               1|               0|               0|\n",
            "|  4|         24|12.209063169452682| 14.66606397042926|  8.70267641154777| 8.932740634865914|      12|    1106|       34|              7|                           1|                          0|                     1|                    0|                      1|                     0|               0|               1|               0|               0|\n",
            "|  5|         24|               0.0|12.591559510922673|               0.0|               0.0|      10|     452|       59|              7|                           1|                          0|                     0|                    1|                      0|                     1|               0|               1|               0|               0|\n",
            "|  6|         24|10.060961276360318|12.722249923614566| 7.618251097876695| 8.008032846969307|       1|     423|       68|              7|                           1|                          0|                     1|                    0|                      1|                     0|               0|               1|               0|               0|\n",
            "|  7|         24|  4.04305126783455| 11.28492011423911|1.6094379124341003| 3.258096538021482|       6|     191|       55|              6|                           1|                          0|                     1|                    0|                      1|                     0|               0|               1|               0|               0|\n",
            "|  8|         24|10.231855610259325| 13.38994324769186| 7.929846429742503|  8.28828304520769|      19|     522|       80|              7|                           1|                          0|                     1|                    0|                      1|                     0|               0|               1|               0|               0|\n",
            "|  9|         24|10.505505799684972|12.679479851033285| 8.118207049405783|  9.53575166123797|      21|    2168|       41|              7|                           1|                          0|                     1|                    0|                      1|                     0|               0|               1|               0|               0|\n",
            "| 10|         24|11.484453971394315|14.698775492508977|  8.72371943690701| 9.449672183486918|       4|     630|       62|              1|                           1|                          0|                     1|                    0|                      1|                     0|               0|               1|               0|               0|\n",
            "| 11|         24| 6.536691597591305|11.191617664868787|3.1780538303479458|5.8944028342648505|      22|     259|       46|              1|                           1|                          0|                     1|                    0|                      1|                     0|               0|               1|               0|               0|\n",
            "| 12|         24| 9.325898712610455|11.403713095996656|  4.31748811353631| 6.297109319933935|      16|    1077|       34|              1|                           1|                          0|                     1|                    0|                      1|                     0|               0|               1|               0|               0|\n",
            "| 13|         24| 7.805474625270857|11.988047224214881| 5.093750200806762| 5.780743515792329|      24|     378|       50|              7|                           1|                          0|                     1|                    0|                      1|                     0|               0|               1|               0|               0|\n",
            "| 14|         24| 9.696709355308183|12.594554348597924|  5.68697535633982| 7.425953657077541|      10|    1067|       24|              7|                           1|                          0|                     1|                    0|                      1|                     0|               0|               1|               0|               0|\n",
            "| 15|         24| 10.06236987759632|14.911052471183494| 7.716460800176355| 8.137688184977605|      14|     343|       59|              6|                           1|                          0|                     1|                    0|                      1|                     0|               0|               1|               0|               0|\n",
            "| 16|         24|  8.87626525995469|12.957870736713547|6.2285110035911835|   7.4318919168078|       2|    2832|       82|              6|                           1|                          0|                     1|                    0|                      1|                     0|               0|               1|               0|               0|\n",
            "| 17|         24|  9.07726601775084|10.647660491699117| 4.276666119016055| 7.069023426578259|       6|     345|       50|              1|                           1|                          0|                     1|                    0|                      1|                     0|               0|               1|               0|               0|\n",
            "| 18|         24|  7.67786350067821|12.866753450952286| 7.102499355774649| 6.568077911411976|      18|     472|       33|              1|                           1|                          0|                     1|                    0|                      1|                     0|               0|               1|               0|               0|\n",
            "| 19|         24| 7.050122520269059|12.047709773530876| 5.187385805840755| 5.117993812416755|      14|    3172|       51|              1|                           1|                          0|                     1|                    0|                      1|                     0|               0|               1|               0|               0|\n",
            "+---+-----------+------------------+------------------+------------------+------------------+--------+--------+---------+---------------+----------------------------+---------------------------+----------------------+---------------------+-----------------------+----------------------+----------------+----------------+----------------+----------------+\n",
            "only showing top 20 rows\n",
            "\n"
          ],
          "name": "stdout"
        }
      ]
    },
    {
      "cell_type": "markdown",
      "metadata": {
        "id": "NFWmORJ8XhX_"
      },
      "source": [
        "Print out the dataframe schema and verify the datatypes"
      ]
    },
    {
      "cell_type": "code",
      "metadata": {
        "id": "22b4aWjueZuO",
        "colab": {
          "base_uri": "https://localhost:8080/"
        },
        "outputId": "8de6620e-7d3c-4459-b7d8-41037e1e2271"
      },
      "source": [
        "#Task: Print the dataframe schema and verify\n",
        "# Add your code here\n",
        "train_sdf.printSchema()"
      ],
      "execution_count": null,
      "outputs": [
        {
          "output_type": "stream",
          "text": [
            "root\n",
            " |-- _c0: integer (nullable = true)\n",
            " |-- category_id: integer (nullable = true)\n",
            " |-- likes_log: double (nullable = true)\n",
            " |-- label: double (nullable = true)\n",
            " |-- dislikes_log: double (nullable = true)\n",
            " |-- comment_log: double (nullable = true)\n",
            " |-- num_tags: integer (nullable = true)\n",
            " |-- desc_len: integer (nullable = true)\n",
            " |-- len_title: integer (nullable = true)\n",
            " |-- publish_weekday: integer (nullable = true)\n",
            " |-- video_error_or_removed_False: integer (nullable = true)\n",
            " |-- video_error_or_removed_True: integer (nullable = true)\n",
            " |-- ratings_disabled_False: integer (nullable = true)\n",
            " |-- ratings_disabled_True: integer (nullable = true)\n",
            " |-- comments_disabled_False: integer (nullable = true)\n",
            " |-- comments_disabled_True: integer (nullable = true)\n",
            " |-- country_CAvideos: integer (nullable = true)\n",
            " |-- country_FRvideos: integer (nullable = true)\n",
            " |-- country_INvideos: integer (nullable = true)\n",
            " |-- country_USvideos: integer (nullable = true)\n",
            "\n"
          ],
          "name": "stdout"
        }
      ]
    },
    {
      "cell_type": "markdown",
      "metadata": {
        "id": "fJ34pkSeXn3G"
      },
      "source": [
        "Now, we have the processed data in hand. Next for the Spark ML, we need to create a feature column that has all features concatenated and a single column for labels.\n",
        "\n",
        "You can use VectorAssembler() to create a feature vector from all categorical and numerical features. Let us call the call the final vector as “features”.\n",
        "\n",
        "Now, list all columns in the data and store it in a list named 'all_columns'\n"
      ]
    },
    {
      "cell_type": "code",
      "metadata": {
        "id": "HwWWc_0Ttyg4"
      },
      "source": [
        "from pyspark.ml.feature import StringIndexer, VectorAssembler"
      ],
      "execution_count": null,
      "outputs": []
    },
    {
      "cell_type": "code",
      "metadata": {
        "id": "XIcLnx7bt7Q8"
      },
      "source": [
        "# Add your code here\n",
        "all_columns = train_sdf.columns"
      ],
      "execution_count": null,
      "outputs": []
    },
    {
      "cell_type": "markdown",
      "metadata": {
        "id": "BqiuAgWxh2yv"
      },
      "source": [
        "Now create a list of columns which you don't wan't to include in your features, i.e., the labels and probably other columns which are not useful for the machine learning model. Let us call this list drop_columns."
      ]
    },
    {
      "cell_type": "code",
      "metadata": {
        "id": "B-_2Tsy5uzIo"
      },
      "source": [
        "# Add your code here\n",
        "drop_columns = 'label'"
      ],
      "execution_count": null,
      "outputs": []
    },
    {
      "cell_type": "code",
      "metadata": {
        "id": "GWgiDQuciHKt"
      },
      "source": [
        "columns_to_use = [i for i in all_columns if i not in drop_columns]"
      ],
      "execution_count": null,
      "outputs": []
    },
    {
      "cell_type": "markdown",
      "metadata": {
        "id": "V4kOg6TWiOcm"
      },
      "source": [
        "Now create a VectorAssembler object with columns you want to use for the ML models. Let us Name the output column as 'features'. These are the features that you will use later.  Let us name the vector assembler object 'assembler'"
      ]
    },
    {
      "cell_type": "code",
      "metadata": {
        "id": "cPl796SvpvoU"
      },
      "source": [
        "# Add your code\n",
        "assembler = VectorAssembler().setInputCols(columns_to_use).setOutputCol(\"features\")"
      ],
      "execution_count": null,
      "outputs": []
    },
    {
      "cell_type": "code",
      "metadata": {
        "id": "5LlUa9NRQMOT",
        "colab": {
          "base_uri": "https://localhost:8080/"
        },
        "outputId": "c750febe-496e-480c-bb32-d802ca0a499e"
      },
      "source": [
        "# Print assember stats\n",
        "print('stat_assembler', (str(assembler.params), columns_to_use))"
      ],
      "execution_count": null,
      "outputs": [
        {
          "output_type": "stream",
          "text": [
            "stat_assembler ('[Param(parent=\\'VectorAssembler_1f121d3cb041\\', name=\\'handleInvalid\\', doc=\"How to handle invalid data (NULL and NaN values). Options are \\'skip\\' (filter out rows with invalid data), \\'error\\' (throw an error), or \\'keep\\' (return relevant number of NaN in the output). Column lengths are taken from the size of ML Attribute Group, which can be set using `VectorSizeHint` in a pipeline before `VectorAssembler`. Column lengths can also be inferred from first rows of the data since it is safe to do so but only in case of \\'error\\' or \\'skip\\').\"), Param(parent=\\'VectorAssembler_1f121d3cb041\\', name=\\'inputCols\\', doc=\\'input column names.\\'), Param(parent=\\'VectorAssembler_1f121d3cb041\\', name=\\'outputCol\\', doc=\\'output column name.\\')]', ['_c0', 'category_id', 'likes_log', 'dislikes_log', 'comment_log', 'num_tags', 'desc_len', 'len_title', 'publish_weekday', 'video_error_or_removed_False', 'video_error_or_removed_True', 'ratings_disabled_False', 'ratings_disabled_True', 'comments_disabled_False', 'comments_disabled_True', 'country_CAvideos', 'country_FRvideos', 'country_INvideos', 'country_USvideos'])\n"
          ],
          "name": "stdout"
        }
      ]
    },
    {
      "cell_type": "markdown",
      "metadata": {
        "id": "X7_HC7cTif1k"
      },
      "source": [
        "Now, we are ready to create a pipeline with different stages.  For out data so far, we just a single stage with the assember, however, you could have other stages  before that where you perform operations on the data, e.g, transforming categorical strings to numeric values or feature scaling operations.\n",
        "\n",
        "In this step, we will create a pipeline with a single stage - the assembler. Fit the pipeline to your data and create the transformed dataframe and name it 'modified_data_sdf'."
      ]
    },
    {
      "cell_type": "code",
      "metadata": {
        "id": "iuO1Mu9IvTEz"
      },
      "source": [
        "from pyspark.ml import Pipeline\n",
        "\n",
        "# Add your code here\n",
        "\n",
        "pipeline = Pipeline().setStages([assembler])\n",
        "modified_data_sdf = pipeline.fit(train_sdf)\n",
        "modified_data_sdf = modified_data_sdf.transform(train_sdf)"
      ],
      "execution_count": null,
      "outputs": []
    },
    {
      "cell_type": "code",
      "metadata": {
        "id": "KwlFEWKwXbRd",
        "colab": {
          "base_uri": "https://localhost:8080/"
        },
        "outputId": "751c2623-8fae-43e3-d2ad-693f0cd29c19"
      },
      "source": [
        "#Print results\n",
        "pipeline_stat = pd.DataFrame(modified_data_sdf.take(5), columns=modified_data_sdf.columns)\n",
        "print('check_pipeline', (pipeline_stat.columns.values, pipeline_stat['features'][0].size))"
      ],
      "execution_count": null,
      "outputs": [
        {
          "output_type": "stream",
          "text": [
            "check_pipeline (array(['_c0', 'category_id', 'likes_log', 'label', 'dislikes_log',\n",
            "       'comment_log', 'num_tags', 'desc_len', 'len_title',\n",
            "       'publish_weekday', 'video_error_or_removed_False',\n",
            "       'video_error_or_removed_True', 'ratings_disabled_False',\n",
            "       'ratings_disabled_True', 'comments_disabled_False',\n",
            "       'comments_disabled_True', 'country_CAvideos', 'country_FRvideos',\n",
            "       'country_INvideos', 'country_USvideos', 'features'], dtype=object), 19)\n"
          ],
          "name": "stdout"
        }
      ]
    },
    {
      "cell_type": "markdown",
      "metadata": {
        "id": "0TKEQEDkxFGf"
      },
      "source": [
        "Now that we have the required data in the right format, Let us create our train and test sets. Let us, split into an 80-20 ratio between the train and test sets. Name these 'train_sdf' and 'test_sdf'"
      ]
    },
    {
      "cell_type": "code",
      "metadata": {
        "id": "Jn4_0RHHxEYm"
      },
      "source": [
        "# Add your code here\n",
        "modified_data_sdf = modified_data_sdf.select('features','label')\n",
        "train_sdf,test_sdf = modified_data_sdf.randomSplit([.8,.2],seed = 30)"
      ],
      "execution_count": null,
      "outputs": []
    },
    {
      "cell_type": "code",
      "metadata": {
        "id": "TkvrG1lMbe9_",
        "colab": {
          "base_uri": "https://localhost:8080/"
        },
        "outputId": "f359c381-742a-4abb-c982-a1752c980223"
      },
      "source": [
        "#Print results here\n",
        "print('check_split', (train_sdf.count(), test_sdf.count()))"
      ],
      "execution_count": null,
      "outputs": [
        {
          "output_type": "stream",
          "text": [
            "check_split (123700, 30867)\n"
          ],
          "name": "stdout"
        }
      ]
    },
    {
      "cell_type": "markdown",
      "metadata": {
        "id": "L_CKE8i8an4x"
      },
      "source": [
        "### 5.2 Linear regression using Spark ML (15 points)\n",
        "\n",
        "In this section, train s linear regression model to our data and predict the views. This prediction should be based on \"Big\" data tools, i.e., Spark ML's linear regression. Create a model using this library, fit the training data. \n",
        "Afterwards, print the summary stats of the model, i.e, \n",
        "- the RMSE error, R2 score and any other information you find useful. Refere the Spark ML documentation online for the implementation.\n",
        "\n",
        "In this section, we will train the model without any regularization!"
      ]
    },
    {
      "cell_type": "code",
      "metadata": {
        "id": "W9qJdpIU4e8q"
      },
      "source": [
        "from pyspark.ml.regression import LinearRegression\n",
        "\n",
        "# Add your code here\n",
        "\n",
        "lr_model=LinearRegression(featuresCol='features',labelCol='label') \n",
        "lr_train=lr_model.fit(train_sdf)\n",
        "predictions_train=lr_train.evaluate(train_sdf) "
      ],
      "execution_count": null,
      "outputs": []
    },
    {
      "cell_type": "code",
      "metadata": {
        "id": "M_n_gx3I-Icl",
        "colab": {
          "base_uri": "https://localhost:8080/"
        },
        "outputId": "e85a2b4a-e3d5-4148-eb46-f9cf7e43b247"
      },
      "source": [
        "trainingSum = lr_train.summary\n",
        "\n",
        "print(\"RMSE: %f\" % trainingSum.rootMeanSquaredError)\n",
        "print(\"r2: %f\" % trainingSum.r2)\n",
        "\n"
      ],
      "execution_count": null,
      "outputs": [
        {
          "output_type": "stream",
          "text": [
            "RMSE: 0.680902\n",
            "r2: 0.859494\n"
          ],
          "name": "stdout"
        }
      ]
    },
    {
      "cell_type": "markdown",
      "metadata": {
        "id": "kJT9Ov_irnXl"
      },
      "source": [
        "Let us investigate that if the model actually overfits the training data. \n",
        "\n",
        "Predict the views for your test data (Note: it is called 'transform' in spark ml). Evaluate the performance using 'RegressionEvaluator' in the Spark ML Regression library. Name prediction column as 'prediction'."
      ]
    },
    {
      "cell_type": "code",
      "metadata": {
        "id": "3sE9kv3ZsU7J"
      },
      "source": [
        "# Add your code here\n",
        "predictions = lr_train.transform(test_sdf)"
      ],
      "execution_count": null,
      "outputs": []
    },
    {
      "cell_type": "code",
      "metadata": {
        "id": "TlqLeWSDsd__"
      },
      "source": [
        "from pyspark.ml.evaluation import RegressionEvaluator\n",
        "\n",
        "# Task: Compute RMSr on the test set\n",
        "evaluator = RegressionEvaluator()\n",
        "test_rmse_orig = evaluator.evaluate(predictions, {evaluator.metricName: \"rmse\"})"
      ],
      "execution_count": null,
      "outputs": []
    },
    {
      "cell_type": "code",
      "metadata": {
        "id": "DuBHq2n8dCxs",
        "colab": {
          "base_uri": "https://localhost:8080/"
        },
        "outputId": "5474ef65-87fe-4b38-f9d0-f03836765c2c"
      },
      "source": [
        "#Print results here\n",
        "predictions_to_print = predictions.toPandas()\n",
        "lranswer = [test_rmse_orig, predictions_to_print['prediction'][0:50], predictions_to_print['label'][0:50]]\n",
        "print('result_lr_test', lranswer)"
      ],
      "execution_count": null,
      "outputs": [
        {
          "output_type": "stream",
          "text": [
            "result_lr_test [0.6886580816085041, 0      8.437110\n",
            "1      8.381147\n",
            "2      7.269156\n",
            "3      7.511079\n",
            "4      7.412082\n",
            "5      7.454209\n",
            "6      7.744089\n",
            "7      8.003798\n",
            "8      7.322307\n",
            "9      6.841511\n",
            "10     6.834358\n",
            "11     8.075225\n",
            "12     7.687014\n",
            "13     8.130445\n",
            "14     8.017564\n",
            "15     8.114608\n",
            "16     7.442937\n",
            "17     7.644919\n",
            "18     7.623667\n",
            "19     7.709971\n",
            "20     7.346288\n",
            "21     7.324160\n",
            "22     8.259481\n",
            "23    11.971418\n",
            "24    11.589347\n",
            "25    11.586205\n",
            "26    11.614809\n",
            "27    11.579216\n",
            "28    11.590651\n",
            "29    12.052754\n",
            "30    11.619102\n",
            "31    11.434000\n",
            "32    11.372540\n",
            "33    11.651748\n",
            "34    11.275514\n",
            "35    11.797450\n",
            "36    11.423441\n",
            "37    11.644886\n",
            "38    11.664624\n",
            "39    11.580424\n",
            "40    11.658729\n",
            "41    11.664314\n",
            "42    11.645398\n",
            "43    11.903090\n",
            "44    11.622248\n",
            "45    11.405193\n",
            "46    11.625877\n",
            "47    11.715591\n",
            "48    11.536749\n",
            "49    11.574335\n",
            "Name: prediction, dtype: float64, 0      8.487146\n",
            "1      7.990577\n",
            "2      9.376787\n",
            "3      7.895436\n",
            "4      8.347827\n",
            "5      7.368340\n",
            "6      7.917901\n",
            "7      8.306719\n",
            "8      9.167433\n",
            "9      7.074117\n",
            "10     7.777793\n",
            "11     9.589667\n",
            "12     7.643962\n",
            "13     8.201112\n",
            "14     7.794823\n",
            "15     7.067320\n",
            "16     8.002360\n",
            "17     7.613819\n",
            "18     7.255591\n",
            "19     7.546446\n",
            "20     8.175266\n",
            "21     6.651572\n",
            "22     9.667829\n",
            "23    12.281482\n",
            "24    13.783594\n",
            "25    14.000672\n",
            "26    10.247503\n",
            "27    14.008622\n",
            "28    10.271528\n",
            "29     9.797405\n",
            "30    10.350606\n",
            "31    14.370343\n",
            "32    13.548368\n",
            "33    12.324900\n",
            "34    14.848450\n",
            "35    11.288231\n",
            "36    13.756485\n",
            "37    13.097954\n",
            "38    10.912850\n",
            "39    10.459870\n",
            "40    10.388103\n",
            "41    10.339611\n",
            "42    10.116055\n",
            "43    11.697170\n",
            "44    11.229620\n",
            "45    11.466923\n",
            "46    14.651609\n",
            "47    10.214092\n",
            "48    13.366742\n",
            "49    10.555318\n",
            "Name: label, dtype: float64]\n"
          ],
          "name": "stdout"
        }
      ]
    },
    {
      "cell_type": "markdown",
      "metadata": {
        "id": "pgEkOUYUsi5D"
      },
      "source": [
        "Next, we will implement regularization to avoid overfitting. you can try different  regularization parameters, e.g., try LASSO (L1), Ridge (L2) and elastic net (combination of L1 and L2).\n",
        "\n",
        "You can try different regularization hyperparameters to initialize three different regularized linear regression models. Compare these regularization methods with each other and the non-regularized method above.\n"
      ]
    },
    {
      "cell_type": "code",
      "metadata": {
        "id": "hhx5njucYKk2"
      },
      "source": [
        "# Add your code here\n",
        "# Compute predictions using each of the models\n",
        "lasso_model=LinearRegression(featuresCol='features',labelCol='label',regParam=50,elasticNetParam =1) \n",
        "lasso_model_fit=lasso_model.fit(train_sdf)\n",
        "l1_predictions = lasso_model_fit.transform(test_sdf)\n",
        "\n",
        "ridge_model=LinearRegression(featuresCol='features',labelCol='label',regParam=50,elasticNetParam =0) \n",
        "ridge_model_fit=ridge_model.fit(train_sdf)\n",
        "l2_predictions = ridge_model_fit.transform(test_sdf)\n",
        "\n",
        "elastic_net_model=LinearRegression(featuresCol='features',labelCol='label',regParam=50,elasticNetParam =0.5) \n",
        "elastic_net_model_fit=elastic_net_model.fit(train_sdf)\n",
        "elastic_net_predictions = elastic_net_model_fit.transform(test_sdf)\n",
        "\n",
        "# Task: Calculate the root mean squared error (RMSE) on test set for each of your models\n",
        "evaluator = RegressionEvaluator()\n",
        "test_rmse_l1 = evaluator.evaluate(l1_predictions, {evaluator.metricName: \"rmse\"})\n",
        "test_rmse_l2 = evaluator.evaluate(l2_predictions, {evaluator.metricName: \"rmse\"})\n",
        "test_rmse_elastic = evaluator.evaluate(elastic_net_predictions, {evaluator.metricName: \"rmse\"})\n"
      ],
      "execution_count": null,
      "outputs": []
    },
    {
      "cell_type": "code",
      "metadata": {
        "id": "q0-fqj8MgY2S",
        "colab": {
          "base_uri": "https://localhost:8080/"
        },
        "outputId": "79c78d3b-019a-4e73-d137-e293eb6e4656"
      },
      "source": [
        "# Print your results here\n",
        "result = [test_rmse_l1, test_rmse_l2, test_rmse_elastic]\n",
        "print('result_lr_all', result)"
      ],
      "execution_count": null,
      "outputs": [
        {
          "output_type": "stream",
          "text": [
            "result_lr_all [1.8180358615120267, 1.6855801780809374, 1.8180358615120267]\n"
          ],
          "name": "stdout"
        }
      ]
    },
    {
      "cell_type": "markdown",
      "metadata": {
        "id": "O6ntJ6xFbbmn"
      },
      "source": [
        "### 5.3 Random Forest Regression 10 pts)\n",
        "\n",
        "You need an understanding of random forest and its variations,i.e., boosted trees to succeed as a data scientist. These are ensemble methods that are know for generalization and are considered popular for classification and regression problems. Similar to linear regresssion, create a random forest regressor model. After it, train the model using the data and then evaluate its performance using the test data. Finally, compare performance of random forest model with the linear regression model.\n",
        "\n"
      ]
    },
    {
      "cell_type": "code",
      "metadata": {
        "id": "8pjjP9GWuoml"
      },
      "source": [
        "from pyspark.ml.regression import RandomForestRegressor\n",
        "# Add your code here\n",
        "rf_model = RandomForestRegressor(featuresCol='features',labelCol='label')\n",
        "rf_model_fit=rf_model.fit(train_sdf)\n",
        "predictions=rf_model_fit.transform(train_sdf)"
      ],
      "execution_count": null,
      "outputs": []
    },
    {
      "cell_type": "code",
      "metadata": {
        "id": "ruaaYA2jBlRK"
      },
      "source": [
        "# Add code here to calculate predictions\n",
        "predictions = rf_model_fit.transform(test_sdf)"
      ],
      "execution_count": null,
      "outputs": []
    },
    {
      "cell_type": "code",
      "metadata": {
        "id": "QyyZfbd6Brqs"
      },
      "source": [
        "from pyspark.ml.evaluation import RegressionEvaluator\n",
        "\n",
        "# Add your code here to instatiate a regressionevaluator \n",
        "evaluator = RegressionEvaluator()\n",
        "train_rmse_rf = evaluator.evaluate(predictions)\n",
        "rmse_rf = evaluator.evaluate(predictions)"
      ],
      "execution_count": null,
      "outputs": []
    },
    {
      "cell_type": "code",
      "metadata": {
        "id": "fR09u5GFjvtb",
        "colab": {
          "base_uri": "https://localhost:8080/"
        },
        "outputId": "a75ec30f-29e2-49cc-ea9c-4af1f0ba4080"
      },
      "source": [
        "#Print results of predictions here\n",
        "predictions_to_reveal = predictions.toPandas()\n",
        "answer = [train_rmse_rf, predictions_to_reveal['prediction'][0:50], predictions_to_reveal['label'][0:50], rmse_rf]\n",
        "print('check_rf_spark', answer)"
      ],
      "execution_count": null,
      "outputs": [
        {
          "output_type": "stream",
          "text": [
            "check_rf_spark [0.7225515774782854, 0      9.755858\n",
            "1      9.927422\n",
            "2      9.755858\n",
            "3      9.102576\n",
            "4      9.072858\n",
            "5      9.027178\n",
            "6      9.023946\n",
            "7      9.102576\n",
            "8      9.059715\n",
            "9      9.062946\n",
            "10     8.964288\n",
            "11    10.323530\n",
            "12     9.665743\n",
            "13     9.837307\n",
            "14     9.665743\n",
            "15     9.875543\n",
            "16     9.665743\n",
            "17     9.665743\n",
            "18     9.665743\n",
            "19     9.665743\n",
            "20     9.665743\n",
            "21     9.699534\n",
            "22     9.958793\n",
            "23    10.796389\n",
            "24    11.773520\n",
            "25    11.773520\n",
            "26    11.424830\n",
            "27    11.773520\n",
            "28    11.384918\n",
            "29    10.964987\n",
            "30    11.384918\n",
            "31    11.189360\n",
            "32    11.189360\n",
            "33    11.740351\n",
            "34    11.248530\n",
            "35    11.365344\n",
            "36    11.222529\n",
            "37    11.740351\n",
            "38    11.378704\n",
            "39    11.209332\n",
            "40    11.011351\n",
            "41    11.011351\n",
            "42    11.314066\n",
            "43    11.365344\n",
            "44    11.384918\n",
            "45    11.614769\n",
            "46    11.740351\n",
            "47    11.011351\n",
            "48    11.654680\n",
            "49    11.378704\n",
            "Name: prediction, dtype: float64, 0      8.487146\n",
            "1      7.990577\n",
            "2      9.376787\n",
            "3      7.895436\n",
            "4      8.347827\n",
            "5      7.368340\n",
            "6      7.917901\n",
            "7      8.306719\n",
            "8      9.167433\n",
            "9      7.074117\n",
            "10     7.777793\n",
            "11     9.589667\n",
            "12     7.643962\n",
            "13     8.201112\n",
            "14     7.794823\n",
            "15     7.067320\n",
            "16     8.002360\n",
            "17     7.613819\n",
            "18     7.255591\n",
            "19     7.546446\n",
            "20     8.175266\n",
            "21     6.651572\n",
            "22     9.667829\n",
            "23    12.281482\n",
            "24    13.783594\n",
            "25    14.000672\n",
            "26    10.247503\n",
            "27    14.008622\n",
            "28    10.271528\n",
            "29     9.797405\n",
            "30    10.350606\n",
            "31    14.370343\n",
            "32    13.548368\n",
            "33    12.324900\n",
            "34    14.848450\n",
            "35    11.288231\n",
            "36    13.756485\n",
            "37    13.097954\n",
            "38    10.912850\n",
            "39    10.459870\n",
            "40    10.388103\n",
            "41    10.339611\n",
            "42    10.116055\n",
            "43    11.697170\n",
            "44    11.229620\n",
            "45    11.466923\n",
            "46    14.651609\n",
            "47    10.214092\n",
            "48    13.366742\n",
            "49    10.555318\n",
            "Name: label, dtype: float64, 0.7225515774782854]\n"
          ],
          "name": "stdout"
        }
      ]
    },
    {
      "cell_type": "markdown",
      "metadata": {
        "id": "SH9cxYzla-lf"
      },
      "source": [
        "### 5.4 Dimensionality Reduction using Principal Component Analysis (10pt)\n",
        "\n",
        "The focus of this section is to utilize PCA to further reduce the dimensions of data, i.e., a lower dimensional space. After PCA perform linear regression on the new data. You can select a suitable value for the number of dimensions as calculated in previous section.\n",
        "\n",
        "The steps are illustrated below:\n",
        "1.   Initialization of PCA model\n",
        "2.   Fit the PCA model using the training data\n",
        "3.   Extract the PCA feature from the trained PCA model from step 2\n",
        "4.   Train a linear regression model using the retreived PCA features\n",
        "5.   Evaluate the trained model 's performance on the test set \n",
        "\n",
        "This section requires extra effort and therefore has less starter code. Spen time to understand and implement considering yourself a data scientist working on an assigned task.\n",
        "\n",
        "\n",
        "\n",
        "\n"
      ]
    },
    {
      "cell_type": "code",
      "metadata": {
        "id": "KXgSxHvgzJaS"
      },
      "source": [
        "# Add your code for the PCA model and training here\n",
        "from pyspark.ml.feature import PCA\n",
        "pca = PCA(k=4, inputCol='features', outputCol='pca_features')\n",
        "model_pca =  pca.fit(modified_data_sdf.select('features'))\n",
        "\n",
        "features_pca = model_pca.transform(modified_data_sdf.select('features')).select('pca_features')"
      ],
      "execution_count": null,
      "outputs": []
    },
    {
      "cell_type": "code",
      "metadata": {
        "id": "h_6GJkboZvIQ"
      },
      "source": [
        "features = features_pca.toPandas()\n",
        "data_df = features.merge(pd.DataFrame(label),left_index=True,right_index=True)\n",
        "data_sdf=spark.createDataFrame(data_df)"
      ],
      "execution_count": null,
      "outputs": []
    },
    {
      "cell_type": "code",
      "metadata": {
        "id": "XbH776RYgW-X"
      },
      "source": [
        "train_sdf,test_sdf = data_sdf.randomSplit([.8,.2],seed = 42)"
      ],
      "execution_count": null,
      "outputs": []
    },
    {
      "cell_type": "code",
      "metadata": {
        "id": "yThfQjLVhGIM"
      },
      "source": [
        "model_pca=LinearRegression(featuresCol='pca_features',labelCol='label') \n",
        "model_pca_lr=model_pca.fit(train_sdf)\n",
        "train_predictions=model_pca_lr.evaluate(train_sdf) \n",
        "evaluator = RegressionEvaluator()\n"
      ],
      "execution_count": null,
      "outputs": []
    },
    {
      "cell_type": "code",
      "metadata": {
        "id": "TBnyAXQwl9Nt"
      },
      "source": [
        "# Add your code here\n",
        "evaluator = RegressionEvaluator()\n",
        "predictions = model_pca_lr.transform(test_sdf)\n",
        "test_rmse_pca_model_lr = evaluator.evaluate(predictions, {evaluator.metricName: \"rmse\"})"
      ],
      "execution_count": null,
      "outputs": []
    },
    {
      "cell_type": "code",
      "metadata": {
        "id": "nNdWfggtmEmx",
        "colab": {
          "base_uri": "https://localhost:8080/"
        },
        "outputId": "6c0dede5-eda2-4507-9a13-6a97645456a4"
      },
      "source": [
        "# Add your code here\n",
        "predictions_to_grade = predictions.toPandas()\n",
        "answer = [ predictions_to_grade['prediction'][0:50], predictions_to_grade['label'][0:50], test_rmse_pca_model_lr]\n",
        "print('check_pca_spark', answer)"
      ],
      "execution_count": null,
      "outputs": [
        {
          "output_type": "stream",
          "text": [
            "check_pca_spark [0     12.732929\n",
            "1     12.374461\n",
            "2     13.111327\n",
            "3     12.732880\n",
            "4     12.336570\n",
            "5     13.215806\n",
            "6     13.011819\n",
            "7     13.111052\n",
            "8     13.011608\n",
            "9     12.905023\n",
            "10    13.215668\n",
            "11    12.336443\n",
            "12    13.110816\n",
            "13    12.837027\n",
            "14    13.231542\n",
            "15    13.056840\n",
            "16    12.969907\n",
            "17    12.782864\n",
            "18    12.476376\n",
            "19    13.231277\n",
            "20    12.782785\n",
            "21    12.469835\n",
            "22    12.476041\n",
            "23    12.486856\n",
            "24    12.413095\n",
            "25    12.578257\n",
            "26    12.782515\n",
            "27    13.230987\n",
            "28    13.395685\n",
            "29    12.469312\n",
            "30    12.412949\n",
            "31    12.680252\n",
            "32    12.518075\n",
            "33    12.577936\n",
            "34    12.539068\n",
            "35    12.095765\n",
            "36    12.490863\n",
            "37    13.395175\n",
            "38    12.753022\n",
            "39    12.538908\n",
            "40    13.230056\n",
            "41    12.490750\n",
            "42    12.557365\n",
            "43    12.538787\n",
            "44    12.469818\n",
            "45    13.228936\n",
            "46    12.577025\n",
            "47    12.797939\n",
            "48    12.095333\n",
            "49    13.487401\n",
            "Name: prediction, dtype: float64, 0     14.145165\n",
            "1     13.721320\n",
            "2     13.483123\n",
            "3     14.136834\n",
            "4     15.034818\n",
            "5     16.599757\n",
            "6     12.882122\n",
            "7     13.354668\n",
            "8     12.820728\n",
            "9     13.325275\n",
            "10    16.563848\n",
            "11    15.028776\n",
            "12    13.254223\n",
            "13    13.321719\n",
            "14    16.467599\n",
            "15    13.149920\n",
            "16    12.469198\n",
            "17    13.923834\n",
            "18    12.966731\n",
            "19    16.428392\n",
            "20    13.906762\n",
            "21    12.326102\n",
            "22    12.762586\n",
            "23    13.230504\n",
            "24    14.899865\n",
            "25    13.517591\n",
            "26    13.816022\n",
            "27    16.362167\n",
            "28    16.656399\n",
            "29    11.933745\n",
            "30    14.897523\n",
            "31    15.943154\n",
            "32    13.330804\n",
            "33    13.435172\n",
            "34    15.102401\n",
            "35    13.437665\n",
            "36    12.505596\n",
            "37    16.401397\n",
            "38    15.306683\n",
            "39    15.086765\n",
            "40    15.976698\n",
            "41    12.461633\n",
            "42    12.455632\n",
            "43    15.070414\n",
            "44    13.207878\n",
            "45    15.407666\n",
            "46    12.942212\n",
            "47    13.214383\n",
            "48    13.370872\n",
            "49    14.162125\n",
            "Name: label, dtype: float64, 1.764838070489552]\n"
          ],
          "name": "stdout"
        }
      ]
    },
    {
      "cell_type": "markdown",
      "metadata": {
        "id": "TyQ6tm6iYg_m"
      },
      "source": [
        "# Submission\n",
        "\n",
        "**Submission on the blackboard**. \n",
        "** PDF submission for the simalarity check and .ipynb for original submission **\n",
        "\n",
        "Go to the \"File\" tab at the top left, and click \"Download .ipynb\". Submit under 'scalableMachinelearning.ipynb'.\n",
        "\n",
        "You must submit your notebook to blackboard for the grading."
      ]
    }
  ]
}